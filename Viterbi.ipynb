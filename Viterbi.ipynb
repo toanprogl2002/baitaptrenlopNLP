{
  "metadata": {
    "kernelspec": {
      "language": "python",
      "display_name": "Python 3",
      "name": "python3"
    },
    "language_info": {
      "name": "python",
      "version": "3.7.12",
      "mimetype": "text/x-python",
      "codemirror_mode": {
        "name": "ipython",
        "version": 3
      },
      "pygments_lexer": "ipython3",
      "nbconvert_exporter": "python",
      "file_extension": ".py"
    },
    "colab": {
      "provenance": []
    }
  },
  "nbformat_minor": 0,
  "nbformat": 4,
  "cells": [
    {
      "cell_type": "code",
      "source": [
        "import numpy as np\n",
        "import pandas as pd\n",
        "import nltk\n",
        "import random\n",
        "from sklearn.model_selection import train_test_split\n",
        "import pprint, time\n",
        "\n",
        "nltk.download('treebank')\n",
        "nltk.download('universal_tagset')\n",
        "\n",
        "nltk_data = list(nltk.corpus.treebank.tagged_sents(tagset = 'universal'))\n",
        "\n",
        "print(nltk_data[:2])"
      ],
      "metadata": {
        "execution": {
          "iopub.status.busy": "2023-02-14T07:12:25.715848Z",
          "iopub.execute_input": "2023-02-14T07:12:25.716418Z",
          "iopub.status.idle": "2023-02-14T07:12:30.343942Z",
          "shell.execute_reply.started": "2023-02-14T07:12:25.716304Z",
          "shell.execute_reply": "2023-02-14T07:12:30.342741Z"
        },
        "trusted": true,
        "colab": {
          "base_uri": "https://localhost:8080/"
        },
        "id": "GipddE8_9COl",
        "outputId": "66fcbb7a-a66d-4964-9436-e8a1f3a12650"
      },
      "execution_count": 6,
      "outputs": [
        {
          "output_type": "stream",
          "name": "stderr",
          "text": [
            "[nltk_data] Downloading package treebank to /root/nltk_data...\n",
            "[nltk_data]   Package treebank is already up-to-date!\n",
            "[nltk_data] Downloading package universal_tagset to /root/nltk_data...\n",
            "[nltk_data]   Package universal_tagset is already up-to-date!\n"
          ]
        },
        {
          "output_type": "stream",
          "name": "stdout",
          "text": [
            "[[('Pierre', 'NOUN'), ('Vinken', 'NOUN'), (',', '.'), ('61', 'NUM'), ('years', 'NOUN'), ('old', 'ADJ'), (',', '.'), ('will', 'VERB'), ('join', 'VERB'), ('the', 'DET'), ('board', 'NOUN'), ('as', 'ADP'), ('a', 'DET'), ('nonexecutive', 'ADJ'), ('director', 'NOUN'), ('Nov.', 'NOUN'), ('29', 'NUM'), ('.', '.')], [('Mr.', 'NOUN'), ('Vinken', 'NOUN'), ('is', 'VERB'), ('chairman', 'NOUN'), ('of', 'ADP'), ('Elsevier', 'NOUN'), ('N.V.', 'NOUN'), (',', '.'), ('the', 'DET'), ('Dutch', 'NOUN'), ('publishing', 'VERB'), ('group', 'NOUN'), ('.', '.')]]\n"
          ]
        }
      ]
    },
    {
      "cell_type": "code",
      "source": [
        "train_tagged_words = [tup for sent in train_set for tup in sent]\n",
        "test_tagged_words = [tup for sent in test_set for tup in sent]\n",
        "print(len(train_tagged_words))\n",
        "print(len(test_tagged_words))"
      ],
      "metadata": {
        "execution": {
          "iopub.status.busy": "2023-02-14T07:20:21.857580Z",
          "iopub.execute_input": "2023-02-14T07:20:21.857970Z",
          "iopub.status.idle": "2023-02-14T07:20:21.872334Z",
          "shell.execute_reply.started": "2023-02-14T07:20:21.857937Z",
          "shell.execute_reply": "2023-02-14T07:20:21.871403Z"
        },
        "trusted": true,
        "colab": {
          "base_uri": "https://localhost:8080/"
        },
        "id": "Z63aH-Tj9COm",
        "outputId": "797b61cf-c13b-442c-f9d2-c07d04290825"
      },
      "execution_count": 7,
      "outputs": [
        {
          "output_type": "stream",
          "name": "stdout",
          "text": [
            "80310\n",
            "20366\n"
          ]
        }
      ]
    },
    {
      "cell_type": "code",
      "source": [
        "for sent in nltk_data[:2]:\n",
        "    for tuple in sent:\n",
        "        print(tuple)"
      ],
      "metadata": {
        "execution": {
          "iopub.status.busy": "2023-02-14T07:14:29.434453Z",
          "iopub.execute_input": "2023-02-14T07:14:29.434893Z",
          "iopub.status.idle": "2023-02-14T07:14:29.441194Z",
          "shell.execute_reply.started": "2023-02-14T07:14:29.434859Z",
          "shell.execute_reply": "2023-02-14T07:14:29.440033Z"
        },
        "trusted": true,
        "colab": {
          "base_uri": "https://localhost:8080/"
        },
        "id": "Db1ek2gA9COn",
        "outputId": "8c611355-268d-47c6-a993-9c511279a64e"
      },
      "execution_count": 8,
      "outputs": [
        {
          "output_type": "stream",
          "name": "stdout",
          "text": [
            "('Pierre', 'NOUN')\n",
            "('Vinken', 'NOUN')\n",
            "(',', '.')\n",
            "('61', 'NUM')\n",
            "('years', 'NOUN')\n",
            "('old', 'ADJ')\n",
            "(',', '.')\n",
            "('will', 'VERB')\n",
            "('join', 'VERB')\n",
            "('the', 'DET')\n",
            "('board', 'NOUN')\n",
            "('as', 'ADP')\n",
            "('a', 'DET')\n",
            "('nonexecutive', 'ADJ')\n",
            "('director', 'NOUN')\n",
            "('Nov.', 'NOUN')\n",
            "('29', 'NUM')\n",
            "('.', '.')\n",
            "('Mr.', 'NOUN')\n",
            "('Vinken', 'NOUN')\n",
            "('is', 'VERB')\n",
            "('chairman', 'NOUN')\n",
            "('of', 'ADP')\n",
            "('Elsevier', 'NOUN')\n",
            "('N.V.', 'NOUN')\n",
            "(',', '.')\n",
            "('the', 'DET')\n",
            "('Dutch', 'NOUN')\n",
            "('publishing', 'VERB')\n",
            "('group', 'NOUN')\n",
            "('.', '.')\n"
          ]
        }
      ]
    },
    {
      "cell_type": "code",
      "source": [
        "train_set, test_set = train_test_split(nltk_data, train_size = 0.8, random_state = 101)"
      ],
      "metadata": {
        "execution": {
          "iopub.status.busy": "2023-02-14T07:16:36.378960Z",
          "iopub.execute_input": "2023-02-14T07:16:36.379380Z",
          "iopub.status.idle": "2023-02-14T07:16:36.388692Z",
          "shell.execute_reply.started": "2023-02-14T07:16:36.379344Z",
          "shell.execute_reply": "2023-02-14T07:16:36.387649Z"
        },
        "trusted": true,
        "id": "H0r-ml4h9COn"
      },
      "execution_count": 9,
      "outputs": []
    },
    {
      "cell_type": "code",
      "source": [
        "print(train_set[0])\n",
        "print(train_tagged_words[0])"
      ],
      "metadata": {
        "execution": {
          "iopub.status.busy": "2023-02-14T07:20:40.530709Z",
          "iopub.execute_input": "2023-02-14T07:20:40.531767Z",
          "iopub.status.idle": "2023-02-14T07:20:40.537983Z",
          "shell.execute_reply.started": "2023-02-14T07:20:40.531715Z",
          "shell.execute_reply": "2023-02-14T07:20:40.536957Z"
        },
        "trusted": true,
        "colab": {
          "base_uri": "https://localhost:8080/"
        },
        "id": "3R4l_dRi9COo",
        "outputId": "335e3975-b7b3-462e-9eb9-00abf7b5ea9f"
      },
      "execution_count": 10,
      "outputs": [
        {
          "output_type": "stream",
          "name": "stdout",
          "text": [
            "[('Drink', 'NOUN'), ('Carrier', 'NOUN'), ('Competes', 'VERB'), ('With', 'ADP'), ('Cartons', 'NOUN')]\n",
            "('Drink', 'NOUN')\n"
          ]
        }
      ]
    },
    {
      "cell_type": "code",
      "source": [
        "tags = {tag for word, tag in train_tagged_words}\n",
        "print(len(tags))\n",
        "print(tags)\n",
        "\n",
        "vocab = {word for word, tag in train_tagged_words}\n",
        "print(len(vocab))"
      ],
      "metadata": {
        "execution": {
          "iopub.status.busy": "2023-02-14T07:23:21.929836Z",
          "iopub.execute_input": "2023-02-14T07:23:21.930257Z",
          "iopub.status.idle": "2023-02-14T07:23:21.960820Z",
          "shell.execute_reply.started": "2023-02-14T07:23:21.930223Z",
          "shell.execute_reply": "2023-02-14T07:23:21.959707Z"
        },
        "trusted": true,
        "colab": {
          "base_uri": "https://localhost:8080/"
        },
        "id": "aRh6SxVq9COo",
        "outputId": "411431fd-0fc3-47eb-bc75-99cefbffcf30"
      },
      "execution_count": 11,
      "outputs": [
        {
          "output_type": "stream",
          "name": "stdout",
          "text": [
            "12\n",
            "{'PRON', 'CONJ', 'ADP', 'NUM', 'ADV', 'PRT', 'VERB', 'X', 'DET', 'ADJ', '.', 'NOUN'}\n",
            "11052\n"
          ]
        }
      ]
    },
    {
      "cell_type": "code",
      "source": [
        "def word_given_tag(word, tag, train_bag = train_tagged_words):\n",
        "    tag_list = [pair for pair in train_bag if pair[1] == tag]\n",
        "    count_tag = len(tag_list)\n",
        "    w_given_tag_list = [pair[0] for pair in tag_list if pair[0] == word]\n",
        "    count_w_given_tag = len(w_given_tag_list)\n",
        "    \n",
        "    return (count_w_given_tag, count_tag)"
      ],
      "metadata": {
        "execution": {
          "iopub.status.busy": "2023-02-14T07:28:26.344756Z",
          "iopub.execute_input": "2023-02-14T07:28:26.345999Z",
          "iopub.status.idle": "2023-02-14T07:28:26.353157Z",
          "shell.execute_reply.started": "2023-02-14T07:28:26.345938Z",
          "shell.execute_reply": "2023-02-14T07:28:26.352060Z"
        },
        "trusted": true,
        "id": "0O6VkA1I9COp"
      },
      "execution_count": 12,
      "outputs": []
    },
    {
      "cell_type": "code",
      "source": [
        "def t2_given_t1(t2, t1, train_bag = train_tagged_words):\n",
        "    tags = [pair[1] for pair in train_bag]\n",
        "    count_t1 = len([t for t in tags if t == t1])\n",
        "    count_t2_t1 = 0\n",
        "    for index in range(len(tags)-1):\n",
        "        if tags[index] == t1 and tags[index + 1] == t2:\n",
        "            count_t2_t1 += 1\n",
        "            return (count_t2_t1, count_t1)"
      ],
      "metadata": {
        "execution": {
          "iopub.status.busy": "2023-02-14T07:32:01.805531Z",
          "iopub.execute_input": "2023-02-14T07:32:01.806569Z",
          "iopub.status.idle": "2023-02-14T07:32:01.813973Z",
          "shell.execute_reply.started": "2023-02-14T07:32:01.806508Z",
          "shell.execute_reply": "2023-02-14T07:32:01.812718Z"
        },
        "trusted": true,
        "id": "zuUHRH169COq"
      },
      "execution_count": 13,
      "outputs": []
    },
    {
      "cell_type": "code",
      "source": [
        "tags_matrix = np.zeros((len(tags), len(tags)), dtype = 'float32')\n",
        "for i, t1 in enumerate(list(tags)):\n",
        "    for j, t2 in enumerate(list(tags)):\n",
        "        tags_matrix[i ,j] = t2_given_t1(t2, t1)[0]/t2_given_t1(t2, t1)[1]"
      ],
      "metadata": {
        "execution": {
          "iopub.status.busy": "2023-02-14T07:36:04.359694Z",
          "iopub.execute_input": "2023-02-14T07:36:04.360095Z",
          "iopub.status.idle": "2023-02-14T07:36:07.551034Z",
          "shell.execute_reply.started": "2023-02-14T07:36:04.360059Z",
          "shell.execute_reply": "2023-02-14T07:36:07.550103Z"
        },
        "trusted": true,
        "id": "L-XfVj289COq"
      },
      "execution_count": 14,
      "outputs": []
    },
    {
      "cell_type": "code",
      "source": [
        "tags_df = pd.DataFrame(tags_matrix, columns = list(tags), index = list(tags))\n",
        "display(tags_df)"
      ],
      "metadata": {
        "execution": {
          "iopub.status.busy": "2023-02-14T07:57:29.625818Z",
          "iopub.execute_input": "2023-02-14T07:57:29.626244Z",
          "iopub.status.idle": "2023-02-14T07:57:29.662863Z",
          "shell.execute_reply.started": "2023-02-14T07:57:29.626207Z",
          "shell.execute_reply": "2023-02-14T07:57:29.661620Z"
        },
        "trusted": true,
        "colab": {
          "base_uri": "https://localhost:8080/",
          "height": 425
        },
        "id": "N-jm2td99COr",
        "outputId": "dab46ec6-0533-4e4b-c325-5a86f9cf79cc"
      },
      "execution_count": 15,
      "outputs": [
        {
          "output_type": "display_data",
          "data": {
            "text/plain": [
              "          PRON      CONJ       ADP       NUM       ADV       PRT      VERB  \\\n",
              "PRON  0.000456  0.000456  0.000456  0.000456  0.000456  0.000456  0.000456   \n",
              "CONJ  0.000549  0.000549  0.000549  0.000549  0.000549  0.000549  0.000549   \n",
              "ADP   0.000127  0.000127  0.000127  0.000127  0.000127  0.000127  0.000127   \n",
              "NUM   0.000357  0.000357  0.000357  0.000357  0.000357  0.000357  0.000357   \n",
              "ADV   0.000388  0.000388  0.000388  0.000388  0.000388  0.000388  0.000388   \n",
              "PRT   0.000391  0.000391  0.000391  0.000391  0.000391  0.000391  0.000391   \n",
              "VERB  0.000092  0.000092  0.000092  0.000092  0.000092  0.000092  0.000092   \n",
              "X     0.000192  0.000192  0.000192  0.000192  0.000192  0.000192  0.000192   \n",
              "DET   0.000144  0.000144  0.000144  0.000144  0.000144  0.000144  0.000144   \n",
              "ADJ   0.000194  0.000194  0.000194  0.000194  0.000194  0.000194  0.000194   \n",
              ".     0.000107  0.000107  0.000107  0.000107  0.000107  0.000107  0.000107   \n",
              "NOUN  0.000044  0.000044  0.000044  0.000044  0.000044  0.000044  0.000044   \n",
              "\n",
              "             X       DET       ADJ         .      NOUN  \n",
              "PRON  0.000456  0.000456  0.000456  0.000456  0.000456  \n",
              "CONJ  0.000549  0.000549  0.000549  0.000549  0.000549  \n",
              "ADP   0.000127  0.000127  0.000127  0.000127  0.000127  \n",
              "NUM   0.000357  0.000357  0.000357  0.000357  0.000357  \n",
              "ADV   0.000388  0.000388  0.000388  0.000388  0.000388  \n",
              "PRT   0.000391  0.000391  0.000391  0.000391  0.000391  \n",
              "VERB  0.000092  0.000092  0.000092  0.000092  0.000092  \n",
              "X     0.000192  0.000192  0.000192  0.000192  0.000192  \n",
              "DET   0.000144  0.000144  0.000144  0.000144  0.000144  \n",
              "ADJ   0.000194  0.000194  0.000194  0.000194  0.000194  \n",
              ".     0.000107  0.000107  0.000107  0.000107  0.000107  \n",
              "NOUN  0.000044  0.000044  0.000044  0.000044  0.000044  "
            ],
            "text/html": [
              "\n",
              "  <div id=\"df-85af765d-d74c-4b2b-81e3-02ee078c8461\">\n",
              "    <div class=\"colab-df-container\">\n",
              "      <div>\n",
              "<style scoped>\n",
              "    .dataframe tbody tr th:only-of-type {\n",
              "        vertical-align: middle;\n",
              "    }\n",
              "\n",
              "    .dataframe tbody tr th {\n",
              "        vertical-align: top;\n",
              "    }\n",
              "\n",
              "    .dataframe thead th {\n",
              "        text-align: right;\n",
              "    }\n",
              "</style>\n",
              "<table border=\"1\" class=\"dataframe\">\n",
              "  <thead>\n",
              "    <tr style=\"text-align: right;\">\n",
              "      <th></th>\n",
              "      <th>PRON</th>\n",
              "      <th>CONJ</th>\n",
              "      <th>ADP</th>\n",
              "      <th>NUM</th>\n",
              "      <th>ADV</th>\n",
              "      <th>PRT</th>\n",
              "      <th>VERB</th>\n",
              "      <th>X</th>\n",
              "      <th>DET</th>\n",
              "      <th>ADJ</th>\n",
              "      <th>.</th>\n",
              "      <th>NOUN</th>\n",
              "    </tr>\n",
              "  </thead>\n",
              "  <tbody>\n",
              "    <tr>\n",
              "      <th>PRON</th>\n",
              "      <td>0.000456</td>\n",
              "      <td>0.000456</td>\n",
              "      <td>0.000456</td>\n",
              "      <td>0.000456</td>\n",
              "      <td>0.000456</td>\n",
              "      <td>0.000456</td>\n",
              "      <td>0.000456</td>\n",
              "      <td>0.000456</td>\n",
              "      <td>0.000456</td>\n",
              "      <td>0.000456</td>\n",
              "      <td>0.000456</td>\n",
              "      <td>0.000456</td>\n",
              "    </tr>\n",
              "    <tr>\n",
              "      <th>CONJ</th>\n",
              "      <td>0.000549</td>\n",
              "      <td>0.000549</td>\n",
              "      <td>0.000549</td>\n",
              "      <td>0.000549</td>\n",
              "      <td>0.000549</td>\n",
              "      <td>0.000549</td>\n",
              "      <td>0.000549</td>\n",
              "      <td>0.000549</td>\n",
              "      <td>0.000549</td>\n",
              "      <td>0.000549</td>\n",
              "      <td>0.000549</td>\n",
              "      <td>0.000549</td>\n",
              "    </tr>\n",
              "    <tr>\n",
              "      <th>ADP</th>\n",
              "      <td>0.000127</td>\n",
              "      <td>0.000127</td>\n",
              "      <td>0.000127</td>\n",
              "      <td>0.000127</td>\n",
              "      <td>0.000127</td>\n",
              "      <td>0.000127</td>\n",
              "      <td>0.000127</td>\n",
              "      <td>0.000127</td>\n",
              "      <td>0.000127</td>\n",
              "      <td>0.000127</td>\n",
              "      <td>0.000127</td>\n",
              "      <td>0.000127</td>\n",
              "    </tr>\n",
              "    <tr>\n",
              "      <th>NUM</th>\n",
              "      <td>0.000357</td>\n",
              "      <td>0.000357</td>\n",
              "      <td>0.000357</td>\n",
              "      <td>0.000357</td>\n",
              "      <td>0.000357</td>\n",
              "      <td>0.000357</td>\n",
              "      <td>0.000357</td>\n",
              "      <td>0.000357</td>\n",
              "      <td>0.000357</td>\n",
              "      <td>0.000357</td>\n",
              "      <td>0.000357</td>\n",
              "      <td>0.000357</td>\n",
              "    </tr>\n",
              "    <tr>\n",
              "      <th>ADV</th>\n",
              "      <td>0.000388</td>\n",
              "      <td>0.000388</td>\n",
              "      <td>0.000388</td>\n",
              "      <td>0.000388</td>\n",
              "      <td>0.000388</td>\n",
              "      <td>0.000388</td>\n",
              "      <td>0.000388</td>\n",
              "      <td>0.000388</td>\n",
              "      <td>0.000388</td>\n",
              "      <td>0.000388</td>\n",
              "      <td>0.000388</td>\n",
              "      <td>0.000388</td>\n",
              "    </tr>\n",
              "    <tr>\n",
              "      <th>PRT</th>\n",
              "      <td>0.000391</td>\n",
              "      <td>0.000391</td>\n",
              "      <td>0.000391</td>\n",
              "      <td>0.000391</td>\n",
              "      <td>0.000391</td>\n",
              "      <td>0.000391</td>\n",
              "      <td>0.000391</td>\n",
              "      <td>0.000391</td>\n",
              "      <td>0.000391</td>\n",
              "      <td>0.000391</td>\n",
              "      <td>0.000391</td>\n",
              "      <td>0.000391</td>\n",
              "    </tr>\n",
              "    <tr>\n",
              "      <th>VERB</th>\n",
              "      <td>0.000092</td>\n",
              "      <td>0.000092</td>\n",
              "      <td>0.000092</td>\n",
              "      <td>0.000092</td>\n",
              "      <td>0.000092</td>\n",
              "      <td>0.000092</td>\n",
              "      <td>0.000092</td>\n",
              "      <td>0.000092</td>\n",
              "      <td>0.000092</td>\n",
              "      <td>0.000092</td>\n",
              "      <td>0.000092</td>\n",
              "      <td>0.000092</td>\n",
              "    </tr>\n",
              "    <tr>\n",
              "      <th>X</th>\n",
              "      <td>0.000192</td>\n",
              "      <td>0.000192</td>\n",
              "      <td>0.000192</td>\n",
              "      <td>0.000192</td>\n",
              "      <td>0.000192</td>\n",
              "      <td>0.000192</td>\n",
              "      <td>0.000192</td>\n",
              "      <td>0.000192</td>\n",
              "      <td>0.000192</td>\n",
              "      <td>0.000192</td>\n",
              "      <td>0.000192</td>\n",
              "      <td>0.000192</td>\n",
              "    </tr>\n",
              "    <tr>\n",
              "      <th>DET</th>\n",
              "      <td>0.000144</td>\n",
              "      <td>0.000144</td>\n",
              "      <td>0.000144</td>\n",
              "      <td>0.000144</td>\n",
              "      <td>0.000144</td>\n",
              "      <td>0.000144</td>\n",
              "      <td>0.000144</td>\n",
              "      <td>0.000144</td>\n",
              "      <td>0.000144</td>\n",
              "      <td>0.000144</td>\n",
              "      <td>0.000144</td>\n",
              "      <td>0.000144</td>\n",
              "    </tr>\n",
              "    <tr>\n",
              "      <th>ADJ</th>\n",
              "      <td>0.000194</td>\n",
              "      <td>0.000194</td>\n",
              "      <td>0.000194</td>\n",
              "      <td>0.000194</td>\n",
              "      <td>0.000194</td>\n",
              "      <td>0.000194</td>\n",
              "      <td>0.000194</td>\n",
              "      <td>0.000194</td>\n",
              "      <td>0.000194</td>\n",
              "      <td>0.000194</td>\n",
              "      <td>0.000194</td>\n",
              "      <td>0.000194</td>\n",
              "    </tr>\n",
              "    <tr>\n",
              "      <th>.</th>\n",
              "      <td>0.000107</td>\n",
              "      <td>0.000107</td>\n",
              "      <td>0.000107</td>\n",
              "      <td>0.000107</td>\n",
              "      <td>0.000107</td>\n",
              "      <td>0.000107</td>\n",
              "      <td>0.000107</td>\n",
              "      <td>0.000107</td>\n",
              "      <td>0.000107</td>\n",
              "      <td>0.000107</td>\n",
              "      <td>0.000107</td>\n",
              "      <td>0.000107</td>\n",
              "    </tr>\n",
              "    <tr>\n",
              "      <th>NOUN</th>\n",
              "      <td>0.000044</td>\n",
              "      <td>0.000044</td>\n",
              "      <td>0.000044</td>\n",
              "      <td>0.000044</td>\n",
              "      <td>0.000044</td>\n",
              "      <td>0.000044</td>\n",
              "      <td>0.000044</td>\n",
              "      <td>0.000044</td>\n",
              "      <td>0.000044</td>\n",
              "      <td>0.000044</td>\n",
              "      <td>0.000044</td>\n",
              "      <td>0.000044</td>\n",
              "    </tr>\n",
              "  </tbody>\n",
              "</table>\n",
              "</div>\n",
              "      <button class=\"colab-df-convert\" onclick=\"convertToInteractive('df-85af765d-d74c-4b2b-81e3-02ee078c8461')\"\n",
              "              title=\"Convert this dataframe to an interactive table.\"\n",
              "              style=\"display:none;\">\n",
              "        \n",
              "  <svg xmlns=\"http://www.w3.org/2000/svg\" height=\"24px\"viewBox=\"0 0 24 24\"\n",
              "       width=\"24px\">\n",
              "    <path d=\"M0 0h24v24H0V0z\" fill=\"none\"/>\n",
              "    <path d=\"M18.56 5.44l.94 2.06.94-2.06 2.06-.94-2.06-.94-.94-2.06-.94 2.06-2.06.94zm-11 1L8.5 8.5l.94-2.06 2.06-.94-2.06-.94L8.5 2.5l-.94 2.06-2.06.94zm10 10l.94 2.06.94-2.06 2.06-.94-2.06-.94-.94-2.06-.94 2.06-2.06.94z\"/><path d=\"M17.41 7.96l-1.37-1.37c-.4-.4-.92-.59-1.43-.59-.52 0-1.04.2-1.43.59L10.3 9.45l-7.72 7.72c-.78.78-.78 2.05 0 2.83L4 21.41c.39.39.9.59 1.41.59.51 0 1.02-.2 1.41-.59l7.78-7.78 2.81-2.81c.8-.78.8-2.07 0-2.86zM5.41 20L4 18.59l7.72-7.72 1.47 1.35L5.41 20z\"/>\n",
              "  </svg>\n",
              "      </button>\n",
              "      \n",
              "  <style>\n",
              "    .colab-df-container {\n",
              "      display:flex;\n",
              "      flex-wrap:wrap;\n",
              "      gap: 12px;\n",
              "    }\n",
              "\n",
              "    .colab-df-convert {\n",
              "      background-color: #E8F0FE;\n",
              "      border: none;\n",
              "      border-radius: 50%;\n",
              "      cursor: pointer;\n",
              "      display: none;\n",
              "      fill: #1967D2;\n",
              "      height: 32px;\n",
              "      padding: 0 0 0 0;\n",
              "      width: 32px;\n",
              "    }\n",
              "\n",
              "    .colab-df-convert:hover {\n",
              "      background-color: #E2EBFA;\n",
              "      box-shadow: 0px 1px 2px rgba(60, 64, 67, 0.3), 0px 1px 3px 1px rgba(60, 64, 67, 0.15);\n",
              "      fill: #174EA6;\n",
              "    }\n",
              "\n",
              "    [theme=dark] .colab-df-convert {\n",
              "      background-color: #3B4455;\n",
              "      fill: #D2E3FC;\n",
              "    }\n",
              "\n",
              "    [theme=dark] .colab-df-convert:hover {\n",
              "      background-color: #434B5C;\n",
              "      box-shadow: 0px 1px 3px 1px rgba(0, 0, 0, 0.15);\n",
              "      filter: drop-shadow(0px 1px 2px rgba(0, 0, 0, 0.3));\n",
              "      fill: #FFFFFF;\n",
              "    }\n",
              "  </style>\n",
              "\n",
              "      <script>\n",
              "        const buttonEl =\n",
              "          document.querySelector('#df-85af765d-d74c-4b2b-81e3-02ee078c8461 button.colab-df-convert');\n",
              "        buttonEl.style.display =\n",
              "          google.colab.kernel.accessAllowed ? 'block' : 'none';\n",
              "\n",
              "        async function convertToInteractive(key) {\n",
              "          const element = document.querySelector('#df-85af765d-d74c-4b2b-81e3-02ee078c8461');\n",
              "          const dataTable =\n",
              "            await google.colab.kernel.invokeFunction('convertToInteractive',\n",
              "                                                     [key], {});\n",
              "          if (!dataTable) return;\n",
              "\n",
              "          const docLinkHtml = 'Like what you see? Visit the ' +\n",
              "            '<a target=\"_blank\" href=https://colab.research.google.com/notebooks/data_table.ipynb>data table notebook</a>'\n",
              "            + ' to learn more about interactive tables.';\n",
              "          element.innerHTML = '';\n",
              "          dataTable['output_type'] = 'display_data';\n",
              "          await google.colab.output.renderOutput(dataTable, element);\n",
              "          const docLink = document.createElement('div');\n",
              "          docLink.innerHTML = docLinkHtml;\n",
              "          element.appendChild(docLink);\n",
              "        }\n",
              "      </script>\n",
              "    </div>\n",
              "  </div>\n",
              "  "
            ]
          },
          "metadata": {}
        }
      ]
    },
    {
      "cell_type": "code",
      "source": [
        "def Viterbi(words, train_bag = train_tagged_words):\n",
        "    state = []\n",
        "    T = list(set(pair[1] for pair in train_bag))\n",
        "    \n",
        "    for key, word in enumerate(words):\n",
        "        p = []\n",
        "        for tag in T:\n",
        "            if key == 0:\n",
        "                trainsition_p = tags_df.loc['.',tag]\n",
        "            else:\n",
        "                trainsition_p = tags_df.loc[state[-1], tag]\n",
        "            \n",
        "            emission_p = word_given_tag(words[key], tag)[0]/ word_given_tag(words[key], tag)[1]\n",
        "            state_probability = emission_p * trainsition_p\n",
        "            p.append(state_probability)\n",
        "        \n",
        "        pmax = max(p)\n",
        "        state_max = T[p.index(pmax)]\n",
        "        state.append(state_max)\n",
        "    return list(zip(words, state))"
      ],
      "metadata": {
        "execution": {
          "iopub.status.busy": "2023-02-14T07:57:34.714459Z",
          "iopub.execute_input": "2023-02-14T07:57:34.714852Z",
          "iopub.status.idle": "2023-02-14T07:57:34.723280Z",
          "shell.execute_reply.started": "2023-02-14T07:57:34.714817Z",
          "shell.execute_reply": "2023-02-14T07:57:34.722353Z"
        },
        "trusted": true,
        "id": "Ehyq-r1H9COr"
      },
      "execution_count": 16,
      "outputs": []
    },
    {
      "cell_type": "code",
      "source": [
        "random.seed(1234)\n",
        "rndom = [random.randint(1, len(test_set)) for x in range(10)]\n",
        "test_run = [test_set[i] for i in rndom]\n",
        "test_run_base = [tup for sent in test_run for tup in sent]\n",
        "test_tagged_words = [tup[0] for sent in test_run for tup in sent]"
      ],
      "metadata": {
        "execution": {
          "iopub.status.busy": "2023-02-14T07:57:38.086036Z",
          "iopub.execute_input": "2023-02-14T07:57:38.086634Z",
          "iopub.status.idle": "2023-02-14T07:57:38.092584Z",
          "shell.execute_reply.started": "2023-02-14T07:57:38.086601Z",
          "shell.execute_reply": "2023-02-14T07:57:38.091511Z"
        },
        "trusted": true,
        "id": "cNOi0ZLS9COr"
      },
      "execution_count": 17,
      "outputs": []
    },
    {
      "cell_type": "code",
      "source": [
        "tagged_seq = Viterbi(test_tagged_words)\n",
        "check = [i for i, j in zip(tagged_seq, test_run_base) if i == j]\n",
        "\n",
        "accuracy = len(check)/ len(tagged_seq)\n",
        "print('Viterbi Algorithm Accuracy: ', accuracy*100)"
      ],
      "metadata": {
        "execution": {
          "iopub.status.busy": "2023-02-14T07:57:39.688621Z",
          "iopub.execute_input": "2023-02-14T07:57:39.689790Z",
          "iopub.status.idle": "2023-02-14T07:58:24.924403Z",
          "shell.execute_reply.started": "2023-02-14T07:57:39.689747Z",
          "shell.execute_reply": "2023-02-14T07:58:24.923208Z"
        },
        "trusted": true,
        "colab": {
          "base_uri": "https://localhost:8080/"
        },
        "id": "tqlGxHBV9COw",
        "outputId": "499adee8-63c1-472e-f8ba-69b2934613e1"
      },
      "execution_count": 18,
      "outputs": [
        {
          "output_type": "stream",
          "name": "stdout",
          "text": [
            "Viterbi Algorithm Accuracy:  92.82296650717703\n"
          ]
        }
      ]
    },
    {
      "cell_type": "markdown",
      "source": [
        "Use Libary"
      ],
      "metadata": {
        "id": "Rq4OhAVc9COw"
      }
    },
    {
      "cell_type": "code",
      "source": [
        "from nltk.corpus import treebank\n",
        "\n",
        "train_data = treebank.tagged_sents()[:1000]\n",
        "train_data"
      ],
      "metadata": {
        "colab": {
          "base_uri": "https://localhost:8080/"
        },
        "id": "CFNRfz3M-SX2",
        "outputId": "c256750a-1708-4625-d3a1-6c90e6bf062a"
      },
      "execution_count": 26,
      "outputs": [
        {
          "output_type": "execute_result",
          "data": {
            "text/plain": [
              "[[('Pierre', 'NNP'), ('Vinken', 'NNP'), (',', ','), ('61', 'CD'), ('years', 'NNS'), ('old', 'JJ'), (',', ','), ('will', 'MD'), ('join', 'VB'), ('the', 'DT'), ('board', 'NN'), ('as', 'IN'), ('a', 'DT'), ('nonexecutive', 'JJ'), ('director', 'NN'), ('Nov.', 'NNP'), ('29', 'CD'), ('.', '.')], [('Mr.', 'NNP'), ('Vinken', 'NNP'), ('is', 'VBZ'), ('chairman', 'NN'), ('of', 'IN'), ('Elsevier', 'NNP'), ('N.V.', 'NNP'), (',', ','), ('the', 'DT'), ('Dutch', 'NNP'), ('publishing', 'VBG'), ('group', 'NN'), ('.', '.')], ...]"
            ]
          },
          "metadata": {},
          "execution_count": 26
        }
      ]
    },
    {
      "cell_type": "code",
      "source": [
        "from nltk.tag import hmm\n",
        "\n",
        "trainer = hmm.HiddenMarkovModelTrainer()\n",
        "# target = trainer.train_supervised(train_data)"
      ],
      "metadata": {
        "id": "oVIAeSzl9COz"
      },
      "execution_count": 19,
      "outputs": []
    }
  ]
}