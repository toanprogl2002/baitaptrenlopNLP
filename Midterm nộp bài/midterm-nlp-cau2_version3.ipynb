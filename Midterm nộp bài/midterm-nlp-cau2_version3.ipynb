{
 "cells": [
  {
   "cell_type": "code",
   "execution_count": 3,
   "metadata": {
    "execution": {
     "iopub.execute_input": "2023-03-21T12:22:03.335064Z",
     "iopub.status.busy": "2023-03-21T12:22:03.332020Z",
     "iopub.status.idle": "2023-03-21T12:22:13.144266Z",
     "shell.execute_reply": "2023-03-21T12:22:13.142878Z",
     "shell.execute_reply.started": "2023-03-21T12:22:03.335020Z"
    }
   },
   "outputs": [
    {
     "name": "stdout",
     "output_type": "stream",
     "text": [
      "Requirement already satisfied: underthesea in /opt/conda/lib/python3.7/site-packages (6.2.0)\n",
      "Requirement already satisfied: python-crfsuite>=0.9.6 in /opt/conda/lib/python3.7/site-packages (from underthesea) (0.9.9)\n",
      "Requirement already satisfied: scikit-learn in /opt/conda/lib/python3.7/site-packages (from underthesea) (1.0.2)\n",
      "Requirement already satisfied: underthesea-core==1.0.0 in /opt/conda/lib/python3.7/site-packages (from underthesea) (1.0.0)\n",
      "Requirement already satisfied: Click>=6.0 in /opt/conda/lib/python3.7/site-packages (from underthesea) (8.1.3)\n",
      "Requirement already satisfied: requests in /opt/conda/lib/python3.7/site-packages (from underthesea) (2.28.2)\n",
      "Requirement already satisfied: nltk in /opt/conda/lib/python3.7/site-packages (from underthesea) (3.2.4)\n",
      "Requirement already satisfied: tqdm in /opt/conda/lib/python3.7/site-packages (from underthesea) (4.64.1)\n",
      "Requirement already satisfied: PyYAML in /opt/conda/lib/python3.7/site-packages (from underthesea) (6.0)\n",
      "Requirement already satisfied: joblib in /opt/conda/lib/python3.7/site-packages (from underthesea) (1.2.0)\n",
      "Requirement already satisfied: importlib-metadata in /opt/conda/lib/python3.7/site-packages (from Click>=6.0->underthesea) (4.11.4)\n",
      "Requirement already satisfied: six in /opt/conda/lib/python3.7/site-packages (from nltk->underthesea) (1.16.0)\n",
      "Requirement already satisfied: certifi>=2017.4.17 in /opt/conda/lib/python3.7/site-packages (from requests->underthesea) (2022.12.7)\n",
      "Requirement already satisfied: charset-normalizer<4,>=2 in /opt/conda/lib/python3.7/site-packages (from requests->underthesea) (2.1.1)\n",
      "Requirement already satisfied: idna<4,>=2.5 in /opt/conda/lib/python3.7/site-packages (from requests->underthesea) (3.4)\n",
      "Requirement already satisfied: urllib3<1.27,>=1.21.1 in /opt/conda/lib/python3.7/site-packages (from requests->underthesea) (1.26.14)\n",
      "Requirement already satisfied: threadpoolctl>=2.0.0 in /opt/conda/lib/python3.7/site-packages (from scikit-learn->underthesea) (3.1.0)\n",
      "Requirement already satisfied: scipy>=1.1.0 in /opt/conda/lib/python3.7/site-packages (from scikit-learn->underthesea) (1.7.3)\n",
      "Requirement already satisfied: numpy>=1.14.6 in /opt/conda/lib/python3.7/site-packages (from scikit-learn->underthesea) (1.21.6)\n",
      "Requirement already satisfied: typing-extensions>=3.6.4 in /opt/conda/lib/python3.7/site-packages (from importlib-metadata->Click>=6.0->underthesea) (4.4.0)\n",
      "Requirement already satisfied: zipp>=0.5 in /opt/conda/lib/python3.7/site-packages (from importlib-metadata->Click>=6.0->underthesea) (3.11.0)\n",
      "\u001b[33mWARNING: Running pip as the 'root' user can result in broken permissions and conflicting behaviour with the system package manager. It is recommended to use a virtual environment instead: https://pip.pypa.io/warnings/venv\u001b[0m\u001b[33m\n",
      "\u001b[0m"
     ]
    }
   ],
   "source": [
    "!pip install underthesea"
   ]
  },
  {
   "cell_type": "code",
   "execution_count": 4,
   "metadata": {
    "execution": {
     "iopub.execute_input": "2023-03-21T12:22:13.148173Z",
     "iopub.status.busy": "2023-03-21T12:22:13.147476Z",
     "iopub.status.idle": "2023-03-21T12:22:13.154412Z",
     "shell.execute_reply": "2023-03-21T12:22:13.153235Z",
     "shell.execute_reply.started": "2023-03-21T12:22:13.148125Z"
    },
    "tags": []
   },
   "outputs": [],
   "source": [
    "import pandas as pd\n",
    "from underthesea import word_tokenize \n",
    "import string\n",
    "from gensim.utils import simple_preprocess\n",
    "import numpy as np"
   ]
  },
  {
   "cell_type": "code",
   "execution_count": 5,
   "metadata": {
    "execution": {
     "iopub.execute_input": "2023-03-21T12:22:13.156057Z",
     "iopub.status.busy": "2023-03-21T12:22:13.155721Z",
     "iopub.status.idle": "2023-03-21T12:22:18.349836Z",
     "shell.execute_reply": "2023-03-21T12:22:18.348544Z",
     "shell.execute_reply.started": "2023-03-21T12:22:13.156020Z"
    },
    "tags": []
   },
   "outputs": [
    {
     "data": {
      "text/html": [
       "<div>\n",
       "<style scoped>\n",
       "    .dataframe tbody tr th:only-of-type {\n",
       "        vertical-align: middle;\n",
       "    }\n",
       "\n",
       "    .dataframe tbody tr th {\n",
       "        vertical-align: top;\n",
       "    }\n",
       "\n",
       "    .dataframe thead th {\n",
       "        text-align: right;\n",
       "    }\n",
       "</style>\n",
       "<table border=\"1\" class=\"dataframe\">\n",
       "  <thead>\n",
       "    <tr style=\"text-align: right;\">\n",
       "      <th></th>\n",
       "      <th>title</th>\n",
       "      <th>category</th>\n",
       "      <th>content</th>\n",
       "    </tr>\n",
       "  </thead>\n",
       "  <tbody>\n",
       "    <tr>\n",
       "      <th>0</th>\n",
       "      <td>Galaxy Gear có thể điều khiển TV thông minh</td>\n",
       "      <td>Công nghệ</td>\n",
       "      <td>Mẫu đồng hồ thông minh Galaxy Gear của Samsung...</td>\n",
       "    </tr>\n",
       "    <tr>\n",
       "      <th>1</th>\n",
       "      <td>Nhật – Mỹ định hội đàm chớp nhoáng tại Singapo...</td>\n",
       "      <td>Thế giới</td>\n",
       "      <td>&gt;&gt; Phó Tổng thống Mỹ công du châu Á, bàn về Bi...</td>\n",
       "    </tr>\n",
       "    <tr>\n",
       "      <th>2</th>\n",
       "      <td>Hàng ngàn học sinh miền núi Nghệ An bỏ học</td>\n",
       "      <td>Giáo dục</td>\n",
       "      <td>Hàng ngàn học sinh sau khi tốt nghiệp THCS đã ...</td>\n",
       "    </tr>\n",
       "    <tr>\n",
       "      <th>3</th>\n",
       "      <td>'Cô ấy bỏ em vì... em gái trượt đại học?'</td>\n",
       "      <td>Đời sống</td>\n",
       "      <td>Mr Búp Bê (BB): Hay là bạn phải đến kèm cho cô...</td>\n",
       "    </tr>\n",
       "    <tr>\n",
       "      <th>4</th>\n",
       "      <td>Cậu bé vượt qua Face ID của iPhone ngang anh Q...</td>\n",
       "      <td>Công nghệ</td>\n",
       "      <td>Trang Wired mới đây đưa thông tin cậu bé Ammar...</td>\n",
       "    </tr>\n",
       "  </tbody>\n",
       "</table>\n",
       "</div>"
      ],
      "text/plain": [
       "                                               title   category  \\\n",
       "0        Galaxy Gear có thể điều khiển TV thông minh  Công nghệ   \n",
       "1  Nhật – Mỹ định hội đàm chớp nhoáng tại Singapo...   Thế giới   \n",
       "2         Hàng ngàn học sinh miền núi Nghệ An bỏ học   Giáo dục   \n",
       "3          'Cô ấy bỏ em vì... em gái trượt đại học?'   Đời sống   \n",
       "4  Cậu bé vượt qua Face ID của iPhone ngang anh Q...  Công nghệ   \n",
       "\n",
       "                                             content  \n",
       "0  Mẫu đồng hồ thông minh Galaxy Gear của Samsung...  \n",
       "1  >> Phó Tổng thống Mỹ công du châu Á, bàn về Bi...  \n",
       "2  Hàng ngàn học sinh sau khi tốt nghiệp THCS đã ...  \n",
       "3  Mr Búp Bê (BB): Hay là bạn phải đến kèm cho cô...  \n",
       "4  Trang Wired mới đây đưa thông tin cậu bé Ammar...  "
      ]
     },
     "execution_count": 5,
     "metadata": {},
     "output_type": "execute_result"
    }
   ],
   "source": [
    "df = pd.read_csv(\"../input/btmidtermnlp/data.csv\", encoding = 'utf-8')\n",
    "df.head(5)"
   ]
  },
  {
   "cell_type": "code",
   "execution_count": 6,
   "metadata": {
    "execution": {
     "iopub.execute_input": "2023-03-21T12:22:18.351853Z",
     "iopub.status.busy": "2023-03-21T12:22:18.351311Z",
     "iopub.status.idle": "2023-03-21T12:22:18.361168Z",
     "shell.execute_reply": "2023-03-21T12:22:18.358497Z",
     "shell.execute_reply.started": "2023-03-21T12:22:18.351813Z"
    },
    "tags": []
   },
   "outputs": [],
   "source": [
    "# def save_Content(ListContent, filename):\n",
    "#     with open(filename, 'w', encoding='utf-8') as f:\n",
    "#         for item in ListContent:\n",
    "#             f.write(\"%s\\n\" % item)\n",
    "#         f.close()\n",
    "\n",
    "def read_file(file):\n",
    "    with open(file, 'r', encoding='utf-8') as f:\n",
    "        line = f.readlines()\n",
    "        lines = list(m.replace(\"\\n\",\"\") for m in line)\n",
    "        # print(line)\n",
    "    f.close()\n",
    "    return lines\n",
    "# print(lines)"
   ]
  },
  {
   "cell_type": "code",
   "execution_count": 7,
   "metadata": {
    "execution": {
     "iopub.execute_input": "2023-03-21T12:22:18.363402Z",
     "iopub.status.busy": "2023-03-21T12:22:18.363012Z",
     "iopub.status.idle": "2023-03-21T12:22:20.906499Z",
     "shell.execute_reply": "2023-03-21T12:22:20.905520Z",
     "shell.execute_reply.started": "2023-03-21T12:22:18.363366Z"
    },
    "tags": []
   },
   "outputs": [
    {
     "data": {
      "text/plain": [
       "['mẫu đồng_hồ thông_minh galaxy gear samsung ảnh afp slashgear hôm tương_tác tv thông_minh galaxy gear đảm_nhiệm chức_năng kênh âm_lượng tắt tv galaxy gear khả_năng theo_dõi sức_khỏe tức_là thông_tin sức_khỏe của đeo thiết_bị phát tv nắm được sức_khỏe của được hiện galaxy gear có_thể làm_việc các thiết_bị di_động của samsung như galaxy note galaxy tab inch các thiết_bị như galaxy galaxy note sẽ có cập_nhật để tương_tác được với galaxy gear thành luân',\n",
       " 'phó_tổng_thống mỹ công_du châu_bàn biển đông nhật ký thỏa_thuận quân_sự philippines thủ_tướng nhật shinzo abe dự_kiến hội_đàm hai lãnh_đạo tái cam_kết_thúc_đẩy hợp_tác song_phương tokyowashington kyodo abe sẽ trao_đổi với phó_tổng_thống mỹ về lập_trường của nhật bản tranh_chấp biển đông biển hoa đông chuyến công_du malaysia singapore và philippines của ông abe tăng_cường hợp_tác kinh_tế và an_ninh với các thành_viên của hiệp_hội các quốc_gia đông_nam asean diễn trong bối_cảnh yêu_sách chủ_quyền cứng_rắn của trung_quốc trên biển đông dấy lo_ngại về an_ninh khu_vực bắc kinh dường_như đang cô_lập khu_vực trong các vấn_đề miễn_cưỡng đồng tham_vấn chính_thức với asean về quy_tắc ứng_xử trên biển đông coc nhằm ngăn_ngừa xung_đột vùng_biển trong khi đó tranh_chấp chủ_quyền đối_với đảo senkakuđiếu_ngư trên biển hoa đông tokyo và bắc kinh đang căng_thẳng trong khi đó phó_tổng_thống mỹ joe biden dự_kiến sẽ vấn_đề giải_quyết căng_thẳng tranh_chấp trên biển đông lên hàng_đầu trong chuyến công_du kéo tài tuần ấn độ và singapore bắt_đầu từ tuần tới minh_châu']"
      ]
     },
     "execution_count": 7,
     "metadata": {},
     "output_type": "execute_result"
    }
   ],
   "source": [
    "Content = read_file(\"../input/btmidtermnlp/ListContent.txt\")\n",
    "Content[0:2]"
   ]
  },
  {
   "cell_type": "code",
   "execution_count": 19,
   "metadata": {
    "execution": {
     "iopub.execute_input": "2023-03-21T09:36:53.823916Z",
     "iopub.status.busy": "2023-03-21T09:36:53.823554Z",
     "iopub.status.idle": "2023-03-21T09:36:53.900010Z",
     "shell.execute_reply": "2023-03-21T09:36:53.898875Z",
     "shell.execute_reply.started": "2023-03-21T09:36:53.823878Z"
    }
   },
   "outputs": [
    {
     "data": {
      "text/plain": [
       "array([[1., 0., 0., ..., 0., 0., 0.],\n",
       "       [0., 0., 0., ..., 0., 0., 0.],\n",
       "       [0., 1., 0., ..., 0., 0., 0.],\n",
       "       ...,\n",
       "       [0., 0., 0., ..., 0., 0., 0.],\n",
       "       [0., 0., 0., ..., 0., 0., 0.],\n",
       "       [0., 0., 0., ..., 0., 0., 0.]])"
      ]
     },
     "execution_count": 19,
     "metadata": {},
     "output_type": "execute_result"
    }
   ],
   "source": [
    "# flat_list = [x for xs in Content for x in xs]\n",
    "# flat_list\n",
    "from sklearn.preprocessing import OneHotEncoder\n",
    "y = list()\n",
    "for i in df['category']:\n",
    "    y.append(i)\n",
    "# y\n",
    "y = np.reshape(y,(len(y),1))\n",
    "# enc.categories_\n",
    "# flat_list = [x for xs in y for x in xs]\n",
    "# flat_list\n",
    "enc = OneHotEncoder(handle_unknown='ignore',sparse = False)\n",
    "y = enc.fit_transform(y)\n",
    "y"
   ]
  },
  {
   "cell_type": "code",
   "execution_count": 20,
   "metadata": {
    "execution": {
     "iopub.execute_input": "2023-03-21T09:36:53.902078Z",
     "iopub.status.busy": "2023-03-21T09:36:53.901520Z",
     "iopub.status.idle": "2023-03-21T09:36:53.909072Z",
     "shell.execute_reply": "2023-03-21T09:36:53.907944Z",
     "shell.execute_reply.started": "2023-03-21T09:36:53.902040Z"
    }
   },
   "outputs": [
    {
     "data": {
      "text/plain": [
       "(51999, 13)"
      ]
     },
     "execution_count": 20,
     "metadata": {},
     "output_type": "execute_result"
    }
   ],
   "source": [
    "y.shape"
   ]
  },
  {
   "cell_type": "code",
   "execution_count": 21,
   "metadata": {
    "execution": {
     "iopub.execute_input": "2023-03-21T09:36:53.911473Z",
     "iopub.status.busy": "2023-03-21T09:36:53.910613Z",
     "iopub.status.idle": "2023-03-21T09:36:53.921460Z",
     "shell.execute_reply": "2023-03-21T09:36:53.920304Z",
     "shell.execute_reply.started": "2023-03-21T09:36:53.911435Z"
    }
   },
   "outputs": [
    {
     "data": {
      "text/plain": [
       "[array(['Công nghệ', 'Giáo dục', 'Giải trí', 'Khoa học', 'Kinh tế',\n",
       "        'Nhà đất', 'Pháp luật', 'Thế giới', 'Thể thao', 'Văn hóa', 'Xe cộ',\n",
       "        'Xã hội', 'Đời sống'], dtype='<U9')]"
      ]
     },
     "execution_count": 21,
     "metadata": {},
     "output_type": "execute_result"
    }
   ],
   "source": [
    "enc.categories_"
   ]
  },
  {
   "cell_type": "code",
   "execution_count": 22,
   "metadata": {
    "execution": {
     "iopub.execute_input": "2023-03-21T09:36:53.923485Z",
     "iopub.status.busy": "2023-03-21T09:36:53.922916Z",
     "iopub.status.idle": "2023-03-21T09:36:53.930694Z",
     "shell.execute_reply": "2023-03-21T09:36:53.929744Z",
     "shell.execute_reply.started": "2023-03-21T09:36:53.923448Z"
    }
   },
   "outputs": [],
   "source": [
    "# data = pd.DataFrame()\n",
    "# data['content'] = Content\n",
    "# data['category'] =  df['category']\n",
    "# word_tokenizen\n",
    "# from nltk.tokenize import word_tokenize\n",
    "# tokenize = list()\n",
    "# for i in Content:\n",
    "#     tokenize.append(word_tokenize(i.lower()))\n"
   ]
  },
  {
   "cell_type": "code",
   "execution_count": 23,
   "metadata": {
    "execution": {
     "iopub.execute_input": "2023-03-21T09:36:53.938729Z",
     "iopub.status.busy": "2023-03-21T09:36:53.938466Z",
     "iopub.status.idle": "2023-03-21T09:36:53.943349Z",
     "shell.execute_reply": "2023-03-21T09:36:53.942189Z",
     "shell.execute_reply.started": "2023-03-21T09:36:53.938704Z"
    },
    "tags": []
   },
   "outputs": [],
   "source": [
    "# tokenize[0:2]"
   ]
  },
  {
   "cell_type": "code",
   "execution_count": 8,
   "metadata": {
    "execution": {
     "iopub.execute_input": "2023-03-21T12:22:20.908482Z",
     "iopub.status.busy": "2023-03-21T12:22:20.908096Z",
     "iopub.status.idle": "2023-03-21T12:22:34.805750Z",
     "shell.execute_reply": "2023-03-21T12:22:34.804607Z",
     "shell.execute_reply.started": "2023-03-21T12:22:20.908445Z"
    }
   },
   "outputs": [],
   "source": [
    "from sklearn.feature_extraction.text import TfidfVectorizer\n",
    "vectorizer = TfidfVectorizer()\n",
    "# fit_transform the text data to create the feature matrix\n",
    "X = vectorizer.fit_transform(Content)"
   ]
  },
  {
   "cell_type": "code",
   "execution_count": 25,
   "metadata": {
    "execution": {
     "iopub.execute_input": "2023-03-21T09:37:06.646458Z",
     "iopub.status.busy": "2023-03-21T09:37:06.645507Z",
     "iopub.status.idle": "2023-03-21T09:37:06.813913Z",
     "shell.execute_reply": "2023-03-21T09:37:06.812676Z",
     "shell.execute_reply.started": "2023-03-21T09:37:06.646419Z"
    }
   },
   "outputs": [
    {
     "data": {
      "text/plain": [
       "array(['aa', 'aaa', 'aaaa', ..., 'ữu', 'ựa', 'ực'], dtype=object)"
      ]
     },
     "execution_count": 25,
     "metadata": {},
     "output_type": "execute_result"
    }
   ],
   "source": [
    "vectorizer.get_feature_names_out()"
   ]
  },
  {
   "cell_type": "code",
   "execution_count": 26,
   "metadata": {
    "execution": {
     "iopub.execute_input": "2023-03-21T09:37:06.817642Z",
     "iopub.status.busy": "2023-03-21T09:37:06.816692Z",
     "iopub.status.idle": "2023-03-21T09:37:06.824509Z",
     "shell.execute_reply": "2023-03-21T09:37:06.823460Z",
     "shell.execute_reply.started": "2023-03-21T09:37:06.817601Z"
    }
   },
   "outputs": [
    {
     "data": {
      "text/plain": [
       "(51999, 166398)"
      ]
     },
     "execution_count": 26,
     "metadata": {},
     "output_type": "execute_result"
    }
   ],
   "source": [
    "X.shape"
   ]
  },
  {
   "cell_type": "code",
   "execution_count": 9,
   "metadata": {
    "execution": {
     "iopub.execute_input": "2023-03-21T12:22:38.781811Z",
     "iopub.status.busy": "2023-03-21T12:22:38.780701Z",
     "iopub.status.idle": "2023-03-21T12:22:38.787694Z",
     "shell.execute_reply": "2023-03-21T12:22:38.785982Z",
     "shell.execute_reply.started": "2023-03-21T12:22:38.781769Z"
    }
   },
   "outputs": [],
   "source": [
    "def vocabulary(content):\n",
    "    vocab = set()\n",
    "    [vocab.update(con.split()) for con in content]\n",
    "    return vocab "
   ]
  },
  {
   "cell_type": "code",
   "execution_count": 10,
   "metadata": {
    "execution": {
     "iopub.execute_input": "2023-03-21T12:22:40.526709Z",
     "iopub.status.busy": "2023-03-21T12:22:40.525955Z",
     "iopub.status.idle": "2023-03-21T12:22:43.146380Z",
     "shell.execute_reply": "2023-03-21T12:22:43.145148Z",
     "shell.execute_reply.started": "2023-03-21T12:22:40.526667Z"
    }
   },
   "outputs": [
    {
     "data": {
      "text/plain": [
       "166398"
      ]
     },
     "execution_count": 10,
     "metadata": {},
     "output_type": "execute_result"
    }
   ],
   "source": [
    "len(vocabulary(Content))"
   ]
  },
  {
   "cell_type": "code",
   "execution_count": 29,
   "metadata": {
    "execution": {
     "iopub.execute_input": "2023-03-21T09:37:09.391514Z",
     "iopub.status.busy": "2023-03-21T09:37:09.390920Z",
     "iopub.status.idle": "2023-03-21T09:37:09.439451Z",
     "shell.execute_reply": "2023-03-21T09:37:09.438380Z",
     "shell.execute_reply.started": "2023-03-21T09:37:09.391475Z"
    }
   },
   "outputs": [],
   "source": [
    "from sklearn.model_selection import train_test_split\n",
    "X_train, X_test, y_train, y_test = train_test_split(X, y, test_size=0.33, random_state=42)"
   ]
  },
  {
   "cell_type": "code",
   "execution_count": 30,
   "metadata": {
    "execution": {
     "iopub.execute_input": "2023-03-21T09:37:09.441574Z",
     "iopub.status.busy": "2023-03-21T09:37:09.441084Z",
     "iopub.status.idle": "2023-03-21T09:37:09.450756Z",
     "shell.execute_reply": "2023-03-21T09:37:09.449314Z",
     "shell.execute_reply.started": "2023-03-21T09:37:09.441537Z"
    }
   },
   "outputs": [
    {
     "data": {
      "text/plain": [
       "(<34839x166398 sparse matrix of type '<class 'numpy.float64'>'\n",
       " \twith 5452303 stored elements in Compressed Sparse Row format>,\n",
       " array([[0., 0., 0., ..., 0., 1., 0.],\n",
       "        [0., 1., 0., ..., 0., 0., 0.],\n",
       "        [0., 0., 0., ..., 0., 0., 0.],\n",
       "        ...,\n",
       "        [0., 0., 0., ..., 0., 0., 0.],\n",
       "        [0., 0., 1., ..., 0., 0., 0.],\n",
       "        [0., 0., 1., ..., 0., 0., 0.]]))"
      ]
     },
     "execution_count": 30,
     "metadata": {},
     "output_type": "execute_result"
    }
   ],
   "source": [
    "X_train,y_train"
   ]
  },
  {
   "cell_type": "code",
   "execution_count": 31,
   "metadata": {
    "execution": {
     "iopub.execute_input": "2023-03-21T09:37:09.453234Z",
     "iopub.status.busy": "2023-03-21T09:37:09.452642Z",
     "iopub.status.idle": "2023-03-21T12:16:13.704505Z",
     "shell.execute_reply": "2023-03-21T12:16:13.703271Z",
     "shell.execute_reply.started": "2023-03-21T09:37:09.453197Z"
    },
    "tags": []
   },
   "outputs": [
    {
     "name": "stderr",
     "output_type": "stream",
     "text": [
      "/opt/conda/lib/python3.7/site-packages/sklearn/neural_network/_multilayer_perceptron.py:699: UserWarning: Training interrupted by user.\n",
      "  warnings.warn(\"Training interrupted by user.\")\n"
     ]
    },
    {
     "name": "stdout",
     "output_type": "stream",
     "text": [
      "Accuracy: 75.06%\n",
      "Precision: [0.8363047  0.92383292 0.85854456 0.84186472 0.81965812 0.80883473\n",
      " 0.84576697 0.90364583 0.96945338 0.69270073 0.93764434 0.70069808\n",
      " 0.83431953]\n",
      "Recall: [0.81195909 0.84621155 0.79847909 0.70520674 0.71674141 0.7820324\n",
      " 0.72381636 0.80076923 0.92697925 0.7113943  0.89955687 0.63278172\n",
      " 0.76689977]\n",
      "F1 score: [0.8239521  0.88332028 0.82742317 0.7675     0.76475279 0.79520779\n",
      " 0.78005412 0.84910277 0.94774067 0.70192308 0.9182058  0.66501035\n",
      " 0.79919028]\n",
      "Macro-averaged Precision: 84.41%\n",
      "Macro-averaged Recall: 77.87%\n",
      "Macro-averaged F1 score: 80.95%\n"
     ]
    }
   ],
   "source": [
    "from sklearn.neural_network import MLPClassifier\n",
    "from sklearn.metrics import accuracy_score, precision_score, recall_score, f1_score\n",
    "\n",
    "clf = MLPClassifier(hidden_layer_sizes=(100, 100))\n",
    "\n",
    "clf.fit(X_train, y_train)\n",
    "\n",
    "y_pred = clf.predict(X_test)\n",
    "\n",
    "accuracy = accuracy_score(y_test, y_pred)\n",
    "precision = precision_score(y_test, y_pred, average=None)\n",
    "recall = recall_score(y_test, y_pred, average=None)\n",
    "f1 = f1_score(y_test, y_pred, average=None)\n",
    "macro_precision = precision_score(y_test, y_pred, average='macro')\n",
    "macro_recall = recall_score(y_test, y_pred, average='macro')\n",
    "macro_f1 = f1_score(y_test, y_pred, average='macro')\n",
    "\n",
    "# print the results\n",
    "print(\"Accuracy: {:.2f}%\".format(accuracy*100))\n",
    "print(\"Precision: {}\".format(precision))\n",
    "print(\"Recall: {}\".format(recall))\n",
    "print(\"F1 score: {}\".format(f1))\n",
    "print(\"Macro-averaged Precision: {:.2f}%\".format(macro_precision*100))\n",
    "print(\"Macro-averaged Recall: {:.2f}%\".format(macro_recall*100))\n",
    "print(\"Macro-averaged F1 score: {:.2f}%\".format(macro_f1*100))"
   ]
  },
  {
   "cell_type": "code",
   "execution_count": 11,
   "metadata": {
    "execution": {
     "iopub.execute_input": "2023-03-21T12:22:49.833046Z",
     "iopub.status.busy": "2023-03-21T12:22:49.832419Z",
     "iopub.status.idle": "2023-03-21T12:22:49.871238Z",
     "shell.execute_reply": "2023-03-21T12:22:49.870271Z",
     "shell.execute_reply.started": "2023-03-21T12:22:49.833008Z"
    }
   },
   "outputs": [],
   "source": [
    "from sklearn.preprocessing import LabelEncoder\n",
    "\n",
    "# Create a LabelEncoder object\n",
    "label_encoder = LabelEncoder()\n",
    "\n",
    "# Fit the LabelEncoder to the y data\n",
    "y = list()\n",
    "for i in df['category']:\n",
    "    y.append(i)\n",
    "# y\n",
    "# y = np.reshape(y,(len(y),1))\n",
    "# y\n",
    "y = label_encoder.fit_transform(y)\n"
   ]
  },
  {
   "cell_type": "code",
   "execution_count": 12,
   "metadata": {
    "execution": {
     "iopub.execute_input": "2023-03-21T12:22:59.265198Z",
     "iopub.status.busy": "2023-03-21T12:22:59.264796Z",
     "iopub.status.idle": "2023-03-21T12:22:59.318716Z",
     "shell.execute_reply": "2023-03-21T12:22:59.317483Z",
     "shell.execute_reply.started": "2023-03-21T12:22:59.265163Z"
    }
   },
   "outputs": [],
   "source": [
    "from sklearn.model_selection import train_test_split\n",
    "X_train, X_test, y_train, y_test = train_test_split(X, y, test_size=0.25, random_state=42)"
   ]
  },
  {
   "cell_type": "code",
   "execution_count": 13,
   "metadata": {
    "execution": {
     "iopub.execute_input": "2023-03-21T12:23:01.841193Z",
     "iopub.status.busy": "2023-03-21T12:23:01.840468Z",
     "iopub.status.idle": "2023-03-21T12:23:01.849293Z",
     "shell.execute_reply": "2023-03-21T12:23:01.848057Z",
     "shell.execute_reply.started": "2023-03-21T12:23:01.841146Z"
    }
   },
   "outputs": [
    {
     "data": {
      "text/plain": [
       "(<38999x166398 sparse matrix of type '<class 'numpy.float64'>'\n",
       " \twith 6099257 stored elements in Compressed Sparse Row format>,\n",
       " array([ 5, 11,  2, ...,  8,  2,  2]))"
      ]
     },
     "execution_count": 13,
     "metadata": {},
     "output_type": "execute_result"
    }
   ],
   "source": [
    "X_train,y_train"
   ]
  },
  {
   "cell_type": "code",
   "execution_count": 14,
   "metadata": {
    "execution": {
     "iopub.execute_input": "2023-03-21T12:23:04.538576Z",
     "iopub.status.busy": "2023-03-21T12:23:04.537521Z",
     "iopub.status.idle": "2023-03-21T12:42:20.956642Z",
     "shell.execute_reply": "2023-03-21T12:42:20.955492Z",
     "shell.execute_reply.started": "2023-03-21T12:23:04.538515Z"
    }
   },
   "outputs": [
    {
     "name": "stdout",
     "output_type": "stream",
     "text": [
      "Accuracy: 83.11%\n",
      "Precision: [0.85088634 0.8892186  0.83449651 0.76438356 0.82676349 0.81844106\n",
      " 0.82960596 0.88235294 0.95369458 0.71314741 0.93843098 0.6867846\n",
      " 0.81573705]\n",
      "Recall: [0.8284264  0.899      0.83783784 0.84205231 0.78989098 0.84\n",
      " 0.77435388 0.87       0.95369458 0.72764228 0.90690979 0.69327731\n",
      " 0.8281092 ]\n",
      "F1 score: [0.83950617 0.89408255 0.83616384 0.80134035 0.80790674 0.8290804\n",
      " 0.80102828 0.87613293 0.95369458 0.72032193 0.92240117 0.69001568\n",
      " 0.82187657]\n",
      "Macro-averaged Precision: 83.11%\n",
      "Macro-averaged Recall: 83.01%\n",
      "Macro-averaged F1 score: 83.03%\n"
     ]
    }
   ],
   "source": [
    "from sklearn.svm import SVC\n",
    "from sklearn.metrics import accuracy_score, precision_score, recall_score, f1_score\n",
    "\n",
    "clf = SVC(kernel='linear')\n",
    "clf.fit(X_train, y_train)\n",
    "y_pred = clf.predict(X_test)\n",
    "accuracy = accuracy_score(y_test, y_pred)\n",
    "precision = precision_score(y_test, y_pred, average=None)\n",
    "recall = recall_score(y_test, y_pred, average=None)\n",
    "f1 = f1_score(y_test, y_pred, average=None)\n",
    "macro_precision = precision_score(y_test, y_pred, average='macro')\n",
    "macro_recall = recall_score(y_test, y_pred, average='macro')\n",
    "macro_f1 = f1_score(y_test, y_pred, average='macro')\n",
    "\n",
    "# print the results\n",
    "print(\"Accuracy: {:.2f}%\".format(accuracy*100))\n",
    "print(\"Precision: {}\".format(precision))\n",
    "print(\"Recall: {}\".format(recall))\n",
    "print(\"F1 score: {}\".format(f1))\n",
    "print(\"Macro-averaged Precision: {:.2f}%\".format(macro_precision*100))\n",
    "print(\"Macro-averaged Recall: {:.2f}%\".format(macro_recall*100))\n",
    "print(\"Macro-averaged F1 score: {:.2f}%\".format(macro_f1*100))"
   ]
  },
  {
   "cell_type": "code",
   "execution_count": 15,
   "metadata": {
    "execution": {
     "iopub.execute_input": "2023-03-21T12:42:20.959932Z",
     "iopub.status.busy": "2023-03-21T12:42:20.958801Z",
     "iopub.status.idle": "2023-03-21T12:46:44.917553Z",
     "shell.execute_reply": "2023-03-21T12:46:44.915244Z",
     "shell.execute_reply.started": "2023-03-21T12:42:20.959883Z"
    }
   },
   "outputs": [
    {
     "name": "stdout",
     "output_type": "stream",
     "text": [
      "Accuracy: 79.60%\n",
      "Precision: [0.84320557 0.83015441 0.76633841 0.74441205 0.74393792 0.75044092\n",
      " 0.76863504 0.81464738 0.94552529 0.74005305 0.88920726 0.72399445\n",
      " 0.761079  ]\n",
      "Recall: [0.73705584 0.914      0.85685686 0.77062374 0.76015857 0.8302439\n",
      " 0.78926441 0.901      0.95763547 0.56707317 0.89347409 0.54831933\n",
      " 0.79878665]\n",
      "F1 score: [0.78656555 0.87006188 0.80907372 0.75729115 0.75196078 0.78832793\n",
      " 0.77881314 0.85565052 0.95154185 0.64211738 0.89133557 0.62402869\n",
      " 0.77947706]\n",
      "Macro-averaged Precision: 79.40%\n",
      "Macro-averaged Recall: 79.42%\n",
      "Macro-averaged F1 score: 79.12%\n"
     ]
    }
   ],
   "source": [
    "from sklearn.ensemble import RandomForestClassifier\n",
    "from sklearn.metrics import accuracy_score, precision_score, recall_score, f1_score\n",
    "clf = RandomForestClassifier(n_estimators=100)\n",
    "\n",
    "clf.fit(X_train, y_train)\n",
    "\n",
    "y_pred = clf.predict(X_test)\n",
    "\n",
    "accuracy = accuracy_score(y_test, y_pred)\n",
    "precision = precision_score(y_test, y_pred, average=None)\n",
    "recall = recall_score(y_test, y_pred, average=None)\n",
    "f1 = f1_score(y_test, y_pred, average=None)\n",
    "macro_precision = precision_score(y_test, y_pred, average='macro')\n",
    "macro_recall = recall_score(y_test, y_pred, average='macro')\n",
    "macro_f1 = f1_score(y_test, y_pred, average='macro')\n",
    "# print the results\n",
    "print(\"Accuracy: {:.2f}%\".format(accuracy*100))\n",
    "print(\"Precision: {}\".format(precision))\n",
    "print(\"Recall: {}\".format(recall))\n",
    "print(\"F1 score: {}\".format(f1))\n",
    "print(\"Macro-averaged Precision: {:.2f}%\".format(macro_precision*100))\n",
    "print(\"Macro-averaged Recall: {:.2f}%\".format(macro_recall*100))\n",
    "print(\"Macro-averaged F1 score: {:.2f}%\".format(macro_f1*100))"
   ]
  },
  {
   "cell_type": "code",
   "execution_count": 16,
   "metadata": {
    "execution": {
     "iopub.execute_input": "2023-03-21T12:46:44.919821Z",
     "iopub.status.busy": "2023-03-21T12:46:44.919413Z",
     "iopub.status.idle": "2023-03-21T12:48:42.414546Z",
     "shell.execute_reply": "2023-03-21T12:48:42.413274Z",
     "shell.execute_reply.started": "2023-03-21T12:46:44.919781Z"
    }
   },
   "outputs": [
    {
     "name": "stdout",
     "output_type": "stream",
     "text": [
      "Accuracy: 61.86%\n",
      "Precision: [0.55433699 0.7484472  0.64227642 0.54780115 0.55651341 0.59790875\n",
      " 0.58375125 0.66301097 0.87187187 0.449069   0.83197556 0.4165844\n",
      " 0.58216433]\n",
      "Recall: [0.56446701 0.723      0.63263263 0.57645875 0.57581764 0.61365854\n",
      " 0.57852883 0.665      0.85812808 0.41666667 0.7840691  0.44327731\n",
      " 0.58746208]\n",
      "F1 score: [0.55935614 0.73550356 0.63741805 0.56176471 0.56600097 0.60568127\n",
      " 0.58112831 0.66400399 0.86494538 0.43226147 0.80731225 0.42951654\n",
      " 0.58480121]\n",
      "Macro-averaged Precision: 61.89%\n",
      "Macro-averaged Recall: 61.69%\n",
      "Macro-averaged F1 score: 61.77%\n"
     ]
    }
   ],
   "source": [
    "from sklearn.tree import DecisionTreeClassifier\n",
    "from sklearn.metrics import accuracy_score, precision_score, recall_score, f1_score\n",
    "clf = DecisionTreeClassifier()\n",
    "\n",
    "clf.fit(X_train, y_train)\n",
    "\n",
    "y_pred = clf.predict(X_test)\n",
    "\n",
    "accuracy = accuracy_score(y_test, y_pred)\n",
    "precision = precision_score(y_test, y_pred, average=None)\n",
    "recall = recall_score(y_test, y_pred, average=None)\n",
    "f1 = f1_score(y_test, y_pred, average=None)\n",
    "macro_precision = precision_score(y_test, y_pred, average='macro')\n",
    "macro_recall = recall_score(y_test, y_pred, average='macro')\n",
    "macro_f1 = f1_score(y_test, y_pred, average='macro')\n",
    "# print the results\n",
    "print(\"Accuracy: {:.2f}%\".format(accuracy*100))\n",
    "print(\"Precision: {}\".format(precision))\n",
    "print(\"Recall: {}\".format(recall))\n",
    "print(\"F1 score: {}\".format(f1))\n",
    "print(\"Macro-averaged Precision: {:.2f}%\".format(macro_precision*100))\n",
    "print(\"Macro-averaged Recall: {:.2f}%\".format(macro_recall*100))\n",
    "print(\"Macro-averaged F1 score: {:.2f}%\".format(macro_f1*100))"
   ]
  },
  {
   "cell_type": "code",
   "execution_count": 24,
   "metadata": {
    "execution": {
     "iopub.execute_input": "2023-03-21T13:42:09.553736Z",
     "iopub.status.busy": "2023-03-21T13:42:09.553096Z",
     "iopub.status.idle": "2023-03-21T13:42:09.632744Z",
     "shell.execute_reply": "2023-03-21T13:42:09.631641Z",
     "shell.execute_reply.started": "2023-03-21T13:42:09.553695Z"
    }
   },
   "outputs": [
    {
     "data": {
      "text/plain": [
       "array([[1., 0., 0., ..., 0., 0., 0.],\n",
       "       [0., 0., 0., ..., 0., 0., 0.],\n",
       "       [0., 1., 0., ..., 0., 0., 0.],\n",
       "       ...,\n",
       "       [0., 0., 0., ..., 0., 0., 0.],\n",
       "       [0., 0., 0., ..., 0., 0., 0.],\n",
       "       [0., 0., 0., ..., 0., 0., 0.]])"
      ]
     },
     "execution_count": 24,
     "metadata": {},
     "output_type": "execute_result"
    }
   ],
   "source": [
    "# flat_list = [x for xs in Content for x in xs]\n",
    "# flat_list\n",
    "from sklearn.preprocessing import OneHotEncoder\n",
    "y = list()\n",
    "for i in df['category']:\n",
    "    y.append(i)\n",
    "# y\n",
    "y = np.reshape(y,(len(y),1))\n",
    "# enc.categories_\n",
    "# flat_list = [x for xs in y for x in xs]\n",
    "# flat_list\n",
    "enc = OneHotEncoder(handle_unknown='ignore',sparse = False)\n",
    "y = enc.fit_transform(y)\n",
    "y"
   ]
  },
  {
   "cell_type": "code",
   "execution_count": 17,
   "metadata": {
    "execution": {
     "iopub.execute_input": "2023-03-21T13:11:44.981111Z",
     "iopub.status.busy": "2023-03-21T13:11:44.980061Z",
     "iopub.status.idle": "2023-03-21T13:11:57.717940Z",
     "shell.execute_reply": "2023-03-21T13:11:57.716721Z",
     "shell.execute_reply.started": "2023-03-21T13:11:44.981056Z"
    }
   },
   "outputs": [],
   "source": [
    "from sklearn.feature_extraction.text import CountVectorizer\n",
    "vectorizer = CountVectorizer()\n",
    "# fit_transform the text data to create the feature matrix\n",
    "X = vectorizer.fit_transform(Content)"
   ]
  },
  {
   "cell_type": "code",
   "execution_count": 25,
   "metadata": {
    "execution": {
     "iopub.execute_input": "2023-03-21T13:42:14.901894Z",
     "iopub.status.busy": "2023-03-21T13:42:14.901184Z",
     "iopub.status.idle": "2023-03-21T13:42:14.949759Z",
     "shell.execute_reply": "2023-03-21T13:42:14.948494Z",
     "shell.execute_reply.started": "2023-03-21T13:42:14.901856Z"
    }
   },
   "outputs": [],
   "source": [
    "from sklearn.model_selection import train_test_split\n",
    "X_train, X_test, y_train, y_test = train_test_split(X, y, test_size=0.25, random_state=42)"
   ]
  },
  {
   "cell_type": "code",
   "execution_count": 26,
   "metadata": {
    "execution": {
     "iopub.execute_input": "2023-03-21T13:42:17.752538Z",
     "iopub.status.busy": "2023-03-21T13:42:17.751603Z",
     "iopub.status.idle": "2023-03-21T14:20:09.386630Z",
     "shell.execute_reply": "2023-03-21T14:20:09.385114Z",
     "shell.execute_reply.started": "2023-03-21T13:42:17.752484Z"
    }
   },
   "outputs": [
    {
     "name": "stderr",
     "output_type": "stream",
     "text": [
      "/opt/conda/lib/python3.7/site-packages/sklearn/neural_network/_multilayer_perceptron.py:699: UserWarning: Training interrupted by user.\n",
      "  warnings.warn(\"Training interrupted by user.\")\n"
     ]
    },
    {
     "name": "stdout",
     "output_type": "stream",
     "text": [
      "Accuracy: 76.34%\n",
      "Precision: [0.87485779 0.9167556  0.8629386  0.83522727 0.80789755 0.83194154\n",
      " 0.80590717 0.91564928 0.9582505  0.71806167 0.95218295 0.70205479\n",
      " 0.8362069 ]\n",
      "Recall: [0.78071066 0.859      0.78778779 0.73943662 0.75024777 0.77756098\n",
      " 0.75944334 0.825      0.94975369 0.66260163 0.87907869 0.6460084\n",
      " 0.78463094]\n",
      "F1 score: [0.8251073  0.88693856 0.82365254 0.78441836 0.77800617 0.80383258\n",
      " 0.78198567 0.86796423 0.95398318 0.68921776 0.91417166 0.67286652\n",
      " 0.80959833]\n",
      "Macro-averaged Precision: 84.75%\n",
      "Macro-averaged Recall: 78.47%\n",
      "Macro-averaged F1 score: 81.47%\n"
     ]
    }
   ],
   "source": [
    "from sklearn.neural_network import MLPClassifier\n",
    "from sklearn.metrics import accuracy_score, precision_score, recall_score, f1_score\n",
    "\n",
    "clf = MLPClassifier(hidden_layer_sizes=(100, 100))\n",
    "\n",
    "clf.fit(X_train, y_train)\n",
    "\n",
    "y_pred = clf.predict(X_test)\n",
    "\n",
    "accuracy = accuracy_score(y_test, y_pred)\n",
    "precision = precision_score(y_test, y_pred, average=None)\n",
    "recall = recall_score(y_test, y_pred, average=None)\n",
    "f1 = f1_score(y_test, y_pred, average=None)\n",
    "macro_precision = precision_score(y_test, y_pred, average='macro')\n",
    "macro_recall = recall_score(y_test, y_pred, average='macro')\n",
    "macro_f1 = f1_score(y_test, y_pred, average='macro')\n",
    "\n",
    "# print the results\n",
    "print(\"Accuracy: {:.2f}%\".format(accuracy*100))\n",
    "print(\"Precision: {}\".format(precision))\n",
    "print(\"Recall: {}\".format(recall))\n",
    "print(\"F1 score: {}\".format(f1))\n",
    "print(\"Macro-averaged Precision: {:.2f}%\".format(macro_precision*100))\n",
    "print(\"Macro-averaged Recall: {:.2f}%\".format(macro_recall*100))\n",
    "print(\"Macro-averaged F1 score: {:.2f}%\".format(macro_f1*100))"
   ]
  },
  {
   "cell_type": "code",
   "execution_count": 19,
   "metadata": {
    "execution": {
     "iopub.execute_input": "2023-03-21T13:12:06.866499Z",
     "iopub.status.busy": "2023-03-21T13:12:06.865556Z",
     "iopub.status.idle": "2023-03-21T13:12:06.905241Z",
     "shell.execute_reply": "2023-03-21T13:12:06.904140Z",
     "shell.execute_reply.started": "2023-03-21T13:12:06.866443Z"
    }
   },
   "outputs": [
    {
     "data": {
      "text/plain": [
       "array([0, 7, 1, ..., 3, 3, 3])"
      ]
     },
     "execution_count": 19,
     "metadata": {},
     "output_type": "execute_result"
    }
   ],
   "source": [
    "from sklearn.preprocessing import LabelEncoder\n",
    "\n",
    "# Create a LabelEncoder object\n",
    "label_encoder = LabelEncoder()\n",
    "\n",
    "# Fit the LabelEncoder to the y data\n",
    "y = list()\n",
    "for i in df['category']:\n",
    "    y.append(i)\n",
    "# y\n",
    "# y = np.reshape(y,(len(y),1))\n",
    "# y\n",
    "y = label_encoder.fit_transform(y)\n",
    "y"
   ]
  },
  {
   "cell_type": "code",
   "execution_count": 20,
   "metadata": {
    "execution": {
     "iopub.execute_input": "2023-03-21T13:12:09.496715Z",
     "iopub.status.busy": "2023-03-21T13:12:09.496123Z",
     "iopub.status.idle": "2023-03-21T13:12:09.539948Z",
     "shell.execute_reply": "2023-03-21T13:12:09.538918Z",
     "shell.execute_reply.started": "2023-03-21T13:12:09.496676Z"
    }
   },
   "outputs": [],
   "source": [
    "from sklearn.model_selection import train_test_split\n",
    "X_train, X_test, y_train, y_test = train_test_split(X, y, test_size=0.25, random_state=42)"
   ]
  },
  {
   "cell_type": "code",
   "execution_count": 21,
   "metadata": {
    "execution": {
     "iopub.execute_input": "2023-03-21T13:12:12.419915Z",
     "iopub.status.busy": "2023-03-21T13:12:12.419551Z",
     "iopub.status.idle": "2023-03-21T13:22:57.685160Z",
     "shell.execute_reply": "2023-03-21T13:22:57.683790Z",
     "shell.execute_reply.started": "2023-03-21T13:12:12.419882Z"
    }
   },
   "outputs": [
    {
     "name": "stdout",
     "output_type": "stream",
     "text": [
      "Accuracy: 75.75%\n",
      "Precision: [0.71402043 0.84793555 0.73214286 0.73491592 0.68003487 0.76627219\n",
      " 0.72469636 0.83675565 0.90239044 0.63064008 0.90305585 0.6049896\n",
      " 0.78369565]\n",
      "Recall: [0.78071066 0.842      0.73873874 0.74748491 0.77304262 0.75804878\n",
      " 0.71172962 0.815      0.89261084 0.61077236 0.82245681 0.61134454\n",
      " 0.72901921]\n",
      "F1 score: [0.74587779 0.84495735 0.73542601 0.74114713 0.72356215 0.7621383\n",
      " 0.71815446 0.82573455 0.897474   0.62054724 0.86087393 0.60815047\n",
      " 0.7553693 ]\n",
      "Macro-averaged Precision: 75.86%\n",
      "Macro-averaged Recall: 75.64%\n",
      "Macro-averaged F1 score: 75.69%\n"
     ]
    }
   ],
   "source": [
    "from sklearn.svm import SVC\n",
    "from sklearn.metrics import accuracy_score, precision_score, recall_score, f1_score\n",
    "\n",
    "clf = SVC(kernel='linear')\n",
    "clf.fit(X_train, y_train)\n",
    "y_pred = clf.predict(X_test)\n",
    "accuracy = accuracy_score(y_test, y_pred)\n",
    "precision = precision_score(y_test, y_pred, average=None)\n",
    "recall = recall_score(y_test, y_pred, average=None)\n",
    "f1 = f1_score(y_test, y_pred, average=None)\n",
    "macro_precision = precision_score(y_test, y_pred, average='macro')\n",
    "macro_recall = recall_score(y_test, y_pred, average='macro')\n",
    "macro_f1 = f1_score(y_test, y_pred, average='macro')\n",
    "\n",
    "# print the results\n",
    "print(\"Accuracy: {:.2f}%\".format(accuracy*100))\n",
    "print(\"Precision: {}\".format(precision))\n",
    "print(\"Recall: {}\".format(recall))\n",
    "print(\"F1 score: {}\".format(f1))\n",
    "print(\"Macro-averaged Precision: {:.2f}%\".format(macro_precision*100))\n",
    "print(\"Macro-averaged Recall: {:.2f}%\".format(macro_recall*100))\n",
    "print(\"Macro-averaged F1 score: {:.2f}%\".format(macro_f1*100))"
   ]
  },
  {
   "cell_type": "code",
   "execution_count": 22,
   "metadata": {
    "execution": {
     "iopub.execute_input": "2023-03-21T13:22:57.688334Z",
     "iopub.status.busy": "2023-03-21T13:22:57.687220Z",
     "iopub.status.idle": "2023-03-21T13:27:39.883166Z",
     "shell.execute_reply": "2023-03-21T13:27:39.882012Z",
     "shell.execute_reply.started": "2023-03-21T13:22:57.688295Z"
    }
   },
   "outputs": [
    {
     "name": "stdout",
     "output_type": "stream",
     "text": [
      "Accuracy: 79.32%\n",
      "Precision: [0.83050847 0.81826241 0.76056338 0.76946411 0.75244618 0.73316062\n",
      " 0.76246334 0.81776557 0.9428848  0.75103164 0.90429688 0.69902913\n",
      " 0.74105461]\n",
      "Recall: [0.74619289 0.923      0.86486486 0.76559356 0.76214073 0.82829268\n",
      " 0.77534791 0.893      0.95960591 0.55487805 0.88867562 0.52941176\n",
      " 0.79575329]\n",
      "F1 score: [0.78609626 0.8674812  0.80936768 0.76752395 0.75726243 0.77782868\n",
      " 0.76885165 0.85372849 0.95117187 0.63822326 0.8964182  0.60251046\n",
      " 0.76743052]\n",
      "Macro-averaged Precision: 79.10%\n",
      "Macro-averaged Recall: 79.13%\n",
      "Macro-averaged F1 score: 78.80%\n"
     ]
    }
   ],
   "source": [
    "from sklearn.ensemble import RandomForestClassifier\n",
    "from sklearn.metrics import accuracy_score, precision_score, recall_score, f1_score\n",
    "clf = RandomForestClassifier(n_estimators=100)\n",
    "\n",
    "clf.fit(X_train, y_train)\n",
    "\n",
    "y_pred = clf.predict(X_test)\n",
    "\n",
    "accuracy = accuracy_score(y_test, y_pred)\n",
    "precision = precision_score(y_test, y_pred, average=None)\n",
    "recall = recall_score(y_test, y_pred, average=None)\n",
    "f1 = f1_score(y_test, y_pred, average=None)\n",
    "macro_precision = precision_score(y_test, y_pred, average='macro')\n",
    "macro_recall = recall_score(y_test, y_pred, average='macro')\n",
    "macro_f1 = f1_score(y_test, y_pred, average='macro')\n",
    "# print the results\n",
    "print(\"Accuracy: {:.2f}%\".format(accuracy*100))\n",
    "print(\"Precision: {}\".format(precision))\n",
    "print(\"Recall: {}\".format(recall))\n",
    "print(\"F1 score: {}\".format(f1))\n",
    "print(\"Macro-averaged Precision: {:.2f}%\".format(macro_precision*100))\n",
    "print(\"Macro-averaged Recall: {:.2f}%\".format(macro_recall*100))\n",
    "print(\"Macro-averaged F1 score: {:.2f}%\".format(macro_f1*100))"
   ]
  },
  {
   "cell_type": "code",
   "execution_count": 23,
   "metadata": {
    "execution": {
     "iopub.execute_input": "2023-03-21T13:27:39.885540Z",
     "iopub.status.busy": "2023-03-21T13:27:39.885131Z",
     "iopub.status.idle": "2023-03-21T13:29:32.404707Z",
     "shell.execute_reply": "2023-03-21T13:29:32.403341Z",
     "shell.execute_reply.started": "2023-03-21T13:27:39.885500Z"
    }
   },
   "outputs": [
    {
     "name": "stdout",
     "output_type": "stream",
     "text": [
      "Accuracy: 61.64%\n",
      "Precision: [0.55413386 0.74193548 0.65067779 0.54581281 0.53795689 0.58806545\n",
      " 0.61239496 0.6742268  0.87046124 0.42212675 0.81924198 0.40714995\n",
      " 0.57868526]\n",
      "Recall: [0.5715736  0.736      0.62462462 0.55734406 0.56888008 0.59609756\n",
      " 0.57952286 0.654      0.87389163 0.39939024 0.80902111 0.43067227\n",
      " 0.58746208]\n",
      "F1 score: [0.56271864 0.73895582 0.63738509 0.55151817 0.55298651 0.59205426\n",
      " 0.59550562 0.66395939 0.87217306 0.41044386 0.81409947 0.41858091\n",
      " 0.58304064]\n",
      "Macro-averaged Precision: 61.56%\n",
      "Macro-averaged Recall: 61.45%\n",
      "Macro-averaged F1 score: 61.49%\n"
     ]
    }
   ],
   "source": [
    "from sklearn.tree import DecisionTreeClassifier\n",
    "from sklearn.metrics import accuracy_score, precision_score, recall_score, f1_score\n",
    "clf = DecisionTreeClassifier()\n",
    "\n",
    "clf.fit(X_train, y_train)\n",
    "\n",
    "y_pred = clf.predict(X_test)\n",
    "\n",
    "accuracy = accuracy_score(y_test, y_pred)\n",
    "precision = precision_score(y_test, y_pred, average=None)\n",
    "recall = recall_score(y_test, y_pred, average=None)\n",
    "f1 = f1_score(y_test, y_pred, average=None)\n",
    "macro_precision = precision_score(y_test, y_pred, average='macro')\n",
    "macro_recall = recall_score(y_test, y_pred, average='macro')\n",
    "macro_f1 = f1_score(y_test, y_pred, average='macro')\n",
    "# print the results\n",
    "print(\"Accuracy: {:.2f}%\".format(accuracy*100))\n",
    "print(\"Precision: {}\".format(precision))\n",
    "print(\"Recall: {}\".format(recall))\n",
    "print(\"F1 score: {}\".format(f1))\n",
    "print(\"Macro-averaged Precision: {:.2f}%\".format(macro_precision*100))\n",
    "print(\"Macro-averaged Recall: {:.2f}%\".format(macro_recall*100))\n",
    "print(\"Macro-averaged F1 score: {:.2f}%\".format(macro_f1*100))"
   ]
  },
  {
   "cell_type": "code",
   "execution_count": null,
   "metadata": {},
   "outputs": [],
   "source": [
    "from sklearn.feature_extraction.text import HashingVectorizer\n",
    "vectorizer = HashingVectorizer()\n",
    "# fit_transform the text data to create the feature matrix\n",
    "X = vectorizer.fit_transform(Content)"
   ]
  }
 ],
 "metadata": {
  "kernelspec": {
   "display_name": "Python 3 (ipykernel)",
   "language": "python",
   "name": "python3"
  },
  "language_info": {
   "codemirror_mode": {
    "name": "ipython",
    "version": 3
   },
   "file_extension": ".py",
   "mimetype": "text/x-python",
   "name": "python",
   "nbconvert_exporter": "python",
   "pygments_lexer": "ipython3",
   "version": "3.9.12"
  }
 },
 "nbformat": 4,
 "nbformat_minor": 4
}
