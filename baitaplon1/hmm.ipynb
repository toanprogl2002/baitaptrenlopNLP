{
 "cells": [
  {
   "cell_type": "code",
   "execution_count": 1,
   "metadata": {},
   "outputs": [],
   "source": [
    "import nltk\n",
    "from nltk.corpus import brown\n",
    "# nltk.download('brown')\n",
    "\n",
    "# Step 1: Data Preparation\n",
    "corpus = brown.tagged_sents() # Load the tagged corpus\n",
    "tag_set = sorted(set(tag for sent in corpus for _, tag in sent)) # Get the set of unique tags\n",
    "word_set = sorted(set(word.lower() for sent in corpus for word, _ in sent)) # Get the set of unique words\n"
   ]
  },
  {
   "cell_type": "code",
   "execution_count": 2,
   "metadata": {},
   "outputs": [],
   "source": [
    "\n",
    "# Split the data into training and testing sets\n",
    "size = int(len(corpus) * 0.8)\n",
    "train_sents = corpus[:size]\n",
    "test_sents = corpus[size:]\n"
   ]
  },
  {
   "cell_type": "code",
   "execution_count": 3,
   "metadata": {},
   "outputs": [],
   "source": [
    "# Step 2: HMM Model Training\n",
    "trainer = nltk.tag.hmm.HiddenMarkovModelTrainer(tag_set, word_set)\n",
    "tagger = trainer.train_supervised(train_sents)"
   ]
  },
  {
   "cell_type": "code",
   "execution_count": 4,
   "metadata": {},
   "outputs": [
    {
     "name": "stdout",
     "output_type": "stream",
     "text": [
      "Accuracy: 0.5411355799632049\n"
     ]
    }
   ],
   "source": [
    "# Step 3: Evaluation\n",
    "gold = [tag for sent in test_sents for _, tag in sent]\n",
    "predicted = [tag for sent in test_sents for _, tag in tagger.tag([word.lower() for word, _ in sent])]\n",
    "accuracy = nltk.accuracy(gold, predicted)\n",
    "print(\"Accuracy:\", accuracy)"
   ]
  },
  {
   "cell_type": "code",
   "execution_count": 5,
   "metadata": {},
   "outputs": [
    {
     "name": "stdout",
     "output_type": "stream",
     "text": [
      "[('this', 'DT'), ('is', 'BEZ'), ('a', 'AT'), ('test', 'NN'), ('sentence', 'NN')]\n"
     ]
    }
   ],
   "source": [
    "# Step 4: POS Tagging\n",
    "sent = \"This is a test sentence\"\n",
    "tokens = nltk.word_tokenize(sent.lower())\n",
    "tags = tagger.tag(tokens)\n",
    "print(tags)\n"
   ]
  }
 ],
 "metadata": {
  "kernelspec": {
   "display_name": "base",
   "language": "python",
   "name": "python3"
  },
  "language_info": {
   "codemirror_mode": {
    "name": "ipython",
    "version": 3
   },
   "file_extension": ".py",
   "mimetype": "text/x-python",
   "name": "python",
   "nbconvert_exporter": "python",
   "pygments_lexer": "ipython3",
   "version": "3.9.12"
  },
  "orig_nbformat": 4,
  "vscode": {
   "interpreter": {
    "hash": "ca85f3d5db9de62862776f4fd0392e551fe98265378ef31afd18488c1e0e3ec3"
   }
  }
 },
 "nbformat": 4,
 "nbformat_minor": 2
}
