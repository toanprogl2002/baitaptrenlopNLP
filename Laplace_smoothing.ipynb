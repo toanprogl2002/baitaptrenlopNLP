{
 "cells": [
  {
   "cell_type": "code",
   "execution_count": 4,
   "id": "479ae8eb-a530-4557-a2b2-50a7a0abe5a0",
   "metadata": {},
   "outputs": [],
   "source": [
    "import pandas as pd\n",
    "import nltk\n",
    "from nltk import ngrams\n",
    "from collections import Counter"
   ]
  },
  {
   "cell_type": "code",
   "execution_count": 5,
   "id": "c3110307-a73d-4f29-8839-5408a9a01d45",
   "metadata": {},
   "outputs": [],
   "source": [
    "with open('train.txt', encoding=\"utf8\") as f:\n",
    "    lines = f.readlines()"
   ]
  },
  {
   "cell_type": "code",
   "execution_count": 6,
   "id": "2b0a8ad7-e586-4a8a-8022-659d52349611",
   "metadata": {},
   "outputs": [
    {
     "name": "stdout",
     "output_type": "stream",
     "text": [
      "16681\n"
     ]
    }
   ],
   "source": [
    "counter_unigram  = Counter()\n",
    "all_tokens_count =0\n",
    "for line in lines:\n",
    "    tokens = nltk.word_tokenize(line.lower())\n",
    "    if len(tokens) == 0:\n",
    "        continue\n",
    "    tokens = ['<s>'] + tokens\n",
    "    all_tokens_count += len(tokens)\n",
    "    counter_unigram.update(tokens)\n",
    "print(len(counter_unigram))\n"
   ]
  },
  {
   "cell_type": "code",
   "execution_count": 7,
   "id": "5788aae2-a3fe-4558-9f08-d9e3d0cf522f",
   "metadata": {},
   "outputs": [
    {
     "data": {
      "text/plain": [
       "16681"
      ]
     },
     "execution_count": 7,
     "metadata": {},
     "output_type": "execute_result"
    }
   ],
   "source": [
    "# tinh 1gram\n",
    "couter_unigram = Counter()\n",
    "for word in lines:\n",
    "    tokens = nltk.word_tokenize(word.lower())\n",
    "    tokens = ['<s>'] + tokens\n",
    "    gram1 = ngrams(tokens,1)\n",
    "    join_grams = ['_'.join(list(gram)) for gram in gram1]\n",
    "    couter_unigram.update(join_grams)\n",
    "len(couter_unigram)"
   ]
  },
  {
   "cell_type": "code",
   "execution_count": 8,
   "id": "1ee7308f-57c1-4e75-b4f3-6ed3e771f73a",
   "metadata": {},
   "outputs": [
    {
     "name": "stdout",
     "output_type": "stream",
     "text": [
      "111438\n",
      "[(',_and', 2308), ('<s>_and', 2169), ('of_the', 1363), ('in_the', 1357), (\"it_'s\", 1205), ('<s>_i', 1178), ('<s>_so', 1120), (',_i', 977), (',_the', 965), ('<s>_it', 885)]\n"
     ]
    }
   ],
   "source": [
    "# tinh 2 gram\n",
    "counter_bigram = Counter()\n",
    "for sent in lines:\n",
    "    tokens = nltk.word_tokenize(sent.lower())\n",
    "    tokens = ['<s>'] + tokens\n",
    "    gram2 = ngrams(tokens,2)\n",
    "    join_grams = ['_'.join(list(gram)) for gram in gram2]\n",
    "    counter_bigram.update(join_grams)\n",
    "print(len(counter_bigram))\n",
    "print(counter_bigram.most_common(10))"
   ]
  },
  {
   "cell_type": "code",
   "execution_count": 9,
   "id": "f97edd42-67c6-474f-9b5b-effd9279f762",
   "metadata": {},
   "outputs": [],
   "source": [
    "def Psen(sent):\n",
    "    prob = 1\n",
    "    tokens = nltk.word_tokenize(sent.lower())\n",
    "    tokens = ['<s>'] + tokens\n",
    "    for i in range(1, len(tokens)):\n",
    "        prob += counter_bigram[tokens[i-1]+'_'+tokens[i]]/counter_unigram[tokens[i-1]]\n",
    "    return prob"
   ]
  },
  {
   "cell_type": "code",
   "execution_count": 10,
   "id": "603ae612-f0cf-4465-a2c3-84dc59c0aa45",
   "metadata": {},
   "outputs": [
    {
     "name": "stdout",
     "output_type": "stream",
     "text": [
      "1.1111723555991073\n"
     ]
    }
   ],
   "source": [
    "prob = Psen(\"hello world\")\n",
    "print(prob)"
   ]
  },
  {
   "cell_type": "code",
   "execution_count": 14,
   "id": "fef5d441-b13d-42d8-9c94-cca34681a158",
   "metadata": {},
   "outputs": [],
   "source": [
    "# smoodthing in 1 gram\n",
    "V = counter_unigram\n",
    "anpha = 0.01\n",
    "def uni_prob(word):\n",
    "    return max(1,counter_unigram(word))/all_tokens_count\n",
    "\n",
    "def bi_prob(word1,word2):\n",
    "    bi_gram = '_'.join((word1,word2))\n",
    "    return (counter_bigram[bi_gram] + anpha)/(couter_unigram[word1] + V*anpha)"
   ]
  }
 ],
 "metadata": {
  "kernelspec": {
   "display_name": "Python 3",
   "language": "python",
   "name": "python3"
  },
  "language_info": {
   "codemirror_mode": {
    "name": "ipython",
    "version": 3
   },
   "file_extension": ".py",
   "mimetype": "text/x-python",
   "name": "python",
   "nbconvert_exporter": "python",
   "pygments_lexer": "ipython3",
   "version": "3.8.5"
  },
  "vscode": {
   "interpreter": {
    "hash": "b081a66ee97bd2b6a16f43955f1d810b7ea816d6eaeb65e157ef9e038445f0c6"
   }
  }
 },
 "nbformat": 4,
 "nbformat_minor": 5
}
