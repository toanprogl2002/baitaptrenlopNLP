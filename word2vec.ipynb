{
  "metadata": {
    "kernelspec": {
      "display_name": "Python 3",
      "language": "python",
      "name": "python3"
    },
    "language_info": {
      "name": "python",
      "version": "3.6.6",
      "mimetype": "text/x-python",
      "codemirror_mode": {
        "name": "ipython",
        "version": 3
      },
      "pygments_lexer": "ipython3",
      "nbconvert_exporter": "python",
      "file_extension": ".py"
    },
    "colab": {
      "provenance": []
    },
    "accelerator": "GPU",
    "gpuClass": "standard"
  },
  "nbformat_minor": 0,
  "nbformat": 4,
  "cells": [
    {
      "cell_type": "code",
      "source": [
        "!pip install underthesea"
      ],
      "metadata": {
        "execution": {
          "iopub.status.busy": "2023-03-28T07:40:57.197079Z",
          "iopub.execute_input": "2023-03-28T07:40:57.197385Z",
          "iopub.status.idle": "2023-03-28T07:43:27.614803Z",
          "shell.execute_reply.started": "2023-03-28T07:40:57.197320Z",
          "shell.execute_reply": "2023-03-28T07:43:27.613902Z"
        },
        "trusted": true,
        "colab": {
          "base_uri": "https://localhost:8080/"
        },
        "id": "8UAQLSFFMSzV",
        "outputId": "c290cefe-c133-4ef3-e9be-9f151a5cd9b5"
      },
      "execution_count": 1,
      "outputs": [
        {
          "output_type": "stream",
          "name": "stdout",
          "text": [
            "Looking in indexes: https://pypi.org/simple, https://us-python.pkg.dev/colab-wheels/public/simple/\n",
            "Collecting underthesea\n",
            "  Downloading underthesea-6.2.0-py3-none-any.whl (19.2 MB)\n",
            "\u001b[2K     \u001b[90m━━━━━━━━━━━━━━━━━━━━━━━━━━━━━━━━━━━━━━━━\u001b[0m \u001b[32m19.2/19.2 MB\u001b[0m \u001b[31m38.1 MB/s\u001b[0m eta \u001b[36m0:00:00\u001b[0m\n",
            "\u001b[?25hRequirement already satisfied: scikit-learn in /usr/local/lib/python3.9/dist-packages (from underthesea) (1.2.2)\n",
            "Requirement already satisfied: requests in /usr/local/lib/python3.9/dist-packages (from underthesea) (2.27.1)\n",
            "Collecting underthesea-core==1.0.0\n",
            "  Downloading underthesea_core-1.0.0-cp39-cp39-manylinux2010_x86_64.whl (599 kB)\n",
            "\u001b[2K     \u001b[90m━━━━━━━━━━━━━━━━━━━━━━━━━━━━━━━━━━━━━━\u001b[0m \u001b[32m599.6/599.6 KB\u001b[0m \u001b[31m52.8 MB/s\u001b[0m eta \u001b[36m0:00:00\u001b[0m\n",
            "\u001b[?25hRequirement already satisfied: Click>=6.0 in /usr/local/lib/python3.9/dist-packages (from underthesea) (8.1.3)\n",
            "Requirement already satisfied: nltk in /usr/local/lib/python3.9/dist-packages (from underthesea) (3.8.1)\n",
            "Requirement already satisfied: PyYAML in /usr/local/lib/python3.9/dist-packages (from underthesea) (6.0)\n",
            "Requirement already satisfied: tqdm in /usr/local/lib/python3.9/dist-packages (from underthesea) (4.65.0)\n",
            "Collecting python-crfsuite>=0.9.6\n",
            "  Downloading python_crfsuite-0.9.9-cp39-cp39-manylinux_2_17_x86_64.manylinux2014_x86_64.whl (1.0 MB)\n",
            "\u001b[2K     \u001b[90m━━━━━━━━━━━━━━━━━━━━━━━━━━━━━━━━━━━━━━━━\u001b[0m \u001b[32m1.0/1.0 MB\u001b[0m \u001b[31m64.6 MB/s\u001b[0m eta \u001b[36m0:00:00\u001b[0m\n",
            "\u001b[?25hRequirement already satisfied: joblib in /usr/local/lib/python3.9/dist-packages (from underthesea) (1.1.1)\n",
            "Requirement already satisfied: regex>=2021.8.3 in /usr/local/lib/python3.9/dist-packages (from nltk->underthesea) (2022.10.31)\n",
            "Requirement already satisfied: charset-normalizer~=2.0.0 in /usr/local/lib/python3.9/dist-packages (from requests->underthesea) (2.0.12)\n",
            "Requirement already satisfied: certifi>=2017.4.17 in /usr/local/lib/python3.9/dist-packages (from requests->underthesea) (2022.12.7)\n",
            "Requirement already satisfied: idna<4,>=2.5 in /usr/local/lib/python3.9/dist-packages (from requests->underthesea) (3.4)\n",
            "Requirement already satisfied: urllib3<1.27,>=1.21.1 in /usr/local/lib/python3.9/dist-packages (from requests->underthesea) (1.26.15)\n",
            "Requirement already satisfied: numpy>=1.17.3 in /usr/local/lib/python3.9/dist-packages (from scikit-learn->underthesea) (1.22.4)\n",
            "Requirement already satisfied: scipy>=1.3.2 in /usr/local/lib/python3.9/dist-packages (from scikit-learn->underthesea) (1.10.1)\n",
            "Requirement already satisfied: threadpoolctl>=2.0.0 in /usr/local/lib/python3.9/dist-packages (from scikit-learn->underthesea) (3.1.0)\n",
            "Installing collected packages: underthesea-core, python-crfsuite, underthesea\n",
            "Successfully installed python-crfsuite-0.9.9 underthesea-6.2.0 underthesea-core-1.0.0\n"
          ]
        }
      ]
    },
    {
      "cell_type": "code",
      "source": [
        "from google.colab import drive\n",
        "\n",
        "drive.mount('/content/gdrive')"
      ],
      "metadata": {
        "colab": {
          "base_uri": "https://localhost:8080/"
        },
        "id": "Ro5V5psaMbqX",
        "outputId": "648a3fd1-0f10-4a3e-8f93-2b246e28e236"
      },
      "execution_count": 2,
      "outputs": [
        {
          "output_type": "stream",
          "name": "stdout",
          "text": [
            "Mounted at /content/gdrive\n"
          ]
        }
      ]
    },
    {
      "cell_type": "code",
      "source": [
        "# This Python 3 environment comes with many helpful analytics libraries installed\n",
        "# It is defined by the kaggle/python docker image: https://github.com/kaggle/docker-python\n",
        "# For example, here's several helpful packages to load in \n",
        "\n",
        "import numpy as np # linear algebra\n",
        "import pandas as pd # data processing, CSV file I/O (e.g. pd.read_csv)\n",
        "import matplotlib.pyplot as plt\n",
        "import seaborn as sns\n",
        "import nltk\n",
        "from nltk.corpus import stopwords                # stopwords are removed from text to keep just useful info\n",
        "# from nltk import word_tokenize, sent_tokenize\n",
        "\n",
        "import keras\n",
        "from keras.preprocessing.text import one_hot, Tokenizer\n",
        "from tensorflow.keras.preprocessing.sequence import pad_sequences\n",
        "from keras.models import Sequential\n",
        "from keras.layers import Dense, Flatten, Embedding, LSTM, SpatialDropout1D, Input, Bidirectional,Dropout\n",
        "from sklearn.model_selection import train_test_split\n",
        "from keras.callbacks import EarlyStopping, ReduceLROnPlateau\n",
        "from keras.regularizers import l2\n",
        "# Input data files are available in the \"../input/\" directory.\n",
        "# For example, running this (by clicking run or pressing Shift+Enter) will list the files in the input directory\n",
        "from underthesea import word_tokenize\n",
        "import os\n",
        "print(os.listdir())\n",
        "\n",
        "# Any results you write to the current directory are saved as output."
      ],
      "metadata": {
        "_uuid": "8f2839f25d086af736a60e9eeb907d3b93b6e0e5",
        "_cell_guid": "b1076dfc-b9ad-4769-8c92-a6c4dae69d19",
        "execution": {
          "iopub.status.busy": "2023-03-28T07:06:49.642418Z",
          "iopub.execute_input": "2023-03-28T07:06:49.642810Z",
          "iopub.status.idle": "2023-03-28T07:06:49.652362Z",
          "shell.execute_reply.started": "2023-03-28T07:06:49.642753Z",
          "shell.execute_reply": "2023-03-28T07:06:49.651470Z"
        },
        "trusted": true,
        "colab": {
          "base_uri": "https://localhost:8080/"
        },
        "id": "h1dQondpMSzZ",
        "outputId": "986c34c9-a0f1-4464-b2a3-25f48360e43b"
      },
      "execution_count": 3,
      "outputs": [
        {
          "output_type": "stream",
          "name": "stdout",
          "text": [
            "['.config', 'gdrive', 'sample_data']\n"
          ]
        }
      ]
    },
    {
      "cell_type": "code",
      "source": [
        "# importing IMDB dataset from another source....this is done to increase our training dataset\n",
        "# w/o this the max accuracy was around 88%, but using this validation set acc. increased to around 93%\n",
        "df = pd.read_csv('/content/gdrive/MyDrive/NLP/Data/data.csv',encoding=\"utf-8\")\n",
        "df.head(5)\n"
      ],
      "metadata": {
        "_uuid": "6efec74779805b9151de3f1fca05b09f3658b45a",
        "execution": {
          "iopub.status.busy": "2023-03-28T07:45:11.644066Z",
          "iopub.execute_input": "2023-03-28T07:45:11.644364Z",
          "iopub.status.idle": "2023-03-28T07:45:13.923897Z",
          "shell.execute_reply.started": "2023-03-28T07:45:11.644311Z",
          "shell.execute_reply": "2023-03-28T07:45:13.922910Z"
        },
        "trusted": true,
        "colab": {
          "base_uri": "https://localhost:8080/",
          "height": 206
        },
        "id": "56UlJxy4MSza",
        "outputId": "5bba5f70-224a-47eb-d42b-07d5c30d0d37"
      },
      "execution_count": 18,
      "outputs": [
        {
          "output_type": "execute_result",
          "data": {
            "text/plain": [
              "                                               title   category  \\\n",
              "0        Galaxy Gear có thể điều khiển TV thông minh  Công nghệ   \n",
              "1  Nhật – Mỹ định hội đàm chớp nhoáng tại Singapo...   Thế giới   \n",
              "2         Hàng ngàn học sinh miền núi Nghệ An bỏ học   Giáo dục   \n",
              "3          'Cô ấy bỏ em vì... em gái trượt đại học?'   Đời sống   \n",
              "4  Cậu bé vượt qua Face ID của iPhone ngang anh Q...  Công nghệ   \n",
              "\n",
              "                                             content  \n",
              "0  Mẫu đồng hồ thông minh Galaxy Gear của Samsung...  \n",
              "1  >> Phó Tổng thống Mỹ công du châu Á, bàn về Bi...  \n",
              "2  Hàng ngàn học sinh sau khi tốt nghiệp THCS đã ...  \n",
              "3  Mr Búp Bê (BB): Hay là bạn phải đến kèm cho cô...  \n",
              "4  Trang Wired mới đây đưa thông tin cậu bé Ammar...  "
            ],
            "text/html": [
              "\n",
              "  <div id=\"df-a7ec6d3d-cce5-4643-adbb-9fac1f92e3ee\">\n",
              "    <div class=\"colab-df-container\">\n",
              "      <div>\n",
              "<style scoped>\n",
              "    .dataframe tbody tr th:only-of-type {\n",
              "        vertical-align: middle;\n",
              "    }\n",
              "\n",
              "    .dataframe tbody tr th {\n",
              "        vertical-align: top;\n",
              "    }\n",
              "\n",
              "    .dataframe thead th {\n",
              "        text-align: right;\n",
              "    }\n",
              "</style>\n",
              "<table border=\"1\" class=\"dataframe\">\n",
              "  <thead>\n",
              "    <tr style=\"text-align: right;\">\n",
              "      <th></th>\n",
              "      <th>title</th>\n",
              "      <th>category</th>\n",
              "      <th>content</th>\n",
              "    </tr>\n",
              "  </thead>\n",
              "  <tbody>\n",
              "    <tr>\n",
              "      <th>0</th>\n",
              "      <td>Galaxy Gear có thể điều khiển TV thông minh</td>\n",
              "      <td>Công nghệ</td>\n",
              "      <td>Mẫu đồng hồ thông minh Galaxy Gear của Samsung...</td>\n",
              "    </tr>\n",
              "    <tr>\n",
              "      <th>1</th>\n",
              "      <td>Nhật – Mỹ định hội đàm chớp nhoáng tại Singapo...</td>\n",
              "      <td>Thế giới</td>\n",
              "      <td>&gt;&gt; Phó Tổng thống Mỹ công du châu Á, bàn về Bi...</td>\n",
              "    </tr>\n",
              "    <tr>\n",
              "      <th>2</th>\n",
              "      <td>Hàng ngàn học sinh miền núi Nghệ An bỏ học</td>\n",
              "      <td>Giáo dục</td>\n",
              "      <td>Hàng ngàn học sinh sau khi tốt nghiệp THCS đã ...</td>\n",
              "    </tr>\n",
              "    <tr>\n",
              "      <th>3</th>\n",
              "      <td>'Cô ấy bỏ em vì... em gái trượt đại học?'</td>\n",
              "      <td>Đời sống</td>\n",
              "      <td>Mr Búp Bê (BB): Hay là bạn phải đến kèm cho cô...</td>\n",
              "    </tr>\n",
              "    <tr>\n",
              "      <th>4</th>\n",
              "      <td>Cậu bé vượt qua Face ID của iPhone ngang anh Q...</td>\n",
              "      <td>Công nghệ</td>\n",
              "      <td>Trang Wired mới đây đưa thông tin cậu bé Ammar...</td>\n",
              "    </tr>\n",
              "  </tbody>\n",
              "</table>\n",
              "</div>\n",
              "      <button class=\"colab-df-convert\" onclick=\"convertToInteractive('df-a7ec6d3d-cce5-4643-adbb-9fac1f92e3ee')\"\n",
              "              title=\"Convert this dataframe to an interactive table.\"\n",
              "              style=\"display:none;\">\n",
              "        \n",
              "  <svg xmlns=\"http://www.w3.org/2000/svg\" height=\"24px\"viewBox=\"0 0 24 24\"\n",
              "       width=\"24px\">\n",
              "    <path d=\"M0 0h24v24H0V0z\" fill=\"none\"/>\n",
              "    <path d=\"M18.56 5.44l.94 2.06.94-2.06 2.06-.94-2.06-.94-.94-2.06-.94 2.06-2.06.94zm-11 1L8.5 8.5l.94-2.06 2.06-.94-2.06-.94L8.5 2.5l-.94 2.06-2.06.94zm10 10l.94 2.06.94-2.06 2.06-.94-2.06-.94-.94-2.06-.94 2.06-2.06.94z\"/><path d=\"M17.41 7.96l-1.37-1.37c-.4-.4-.92-.59-1.43-.59-.52 0-1.04.2-1.43.59L10.3 9.45l-7.72 7.72c-.78.78-.78 2.05 0 2.83L4 21.41c.39.39.9.59 1.41.59.51 0 1.02-.2 1.41-.59l7.78-7.78 2.81-2.81c.8-.78.8-2.07 0-2.86zM5.41 20L4 18.59l7.72-7.72 1.47 1.35L5.41 20z\"/>\n",
              "  </svg>\n",
              "      </button>\n",
              "      \n",
              "  <style>\n",
              "    .colab-df-container {\n",
              "      display:flex;\n",
              "      flex-wrap:wrap;\n",
              "      gap: 12px;\n",
              "    }\n",
              "\n",
              "    .colab-df-convert {\n",
              "      background-color: #E8F0FE;\n",
              "      border: none;\n",
              "      border-radius: 50%;\n",
              "      cursor: pointer;\n",
              "      display: none;\n",
              "      fill: #1967D2;\n",
              "      height: 32px;\n",
              "      padding: 0 0 0 0;\n",
              "      width: 32px;\n",
              "    }\n",
              "\n",
              "    .colab-df-convert:hover {\n",
              "      background-color: #E2EBFA;\n",
              "      box-shadow: 0px 1px 2px rgba(60, 64, 67, 0.3), 0px 1px 3px 1px rgba(60, 64, 67, 0.15);\n",
              "      fill: #174EA6;\n",
              "    }\n",
              "\n",
              "    [theme=dark] .colab-df-convert {\n",
              "      background-color: #3B4455;\n",
              "      fill: #D2E3FC;\n",
              "    }\n",
              "\n",
              "    [theme=dark] .colab-df-convert:hover {\n",
              "      background-color: #434B5C;\n",
              "      box-shadow: 0px 1px 3px 1px rgba(0, 0, 0, 0.15);\n",
              "      filter: drop-shadow(0px 1px 2px rgba(0, 0, 0, 0.3));\n",
              "      fill: #FFFFFF;\n",
              "    }\n",
              "  </style>\n",
              "\n",
              "      <script>\n",
              "        const buttonEl =\n",
              "          document.querySelector('#df-a7ec6d3d-cce5-4643-adbb-9fac1f92e3ee button.colab-df-convert');\n",
              "        buttonEl.style.display =\n",
              "          google.colab.kernel.accessAllowed ? 'block' : 'none';\n",
              "\n",
              "        async function convertToInteractive(key) {\n",
              "          const element = document.querySelector('#df-a7ec6d3d-cce5-4643-adbb-9fac1f92e3ee');\n",
              "          const dataTable =\n",
              "            await google.colab.kernel.invokeFunction('convertToInteractive',\n",
              "                                                     [key], {});\n",
              "          if (!dataTable) return;\n",
              "\n",
              "          const docLinkHtml = 'Like what you see? Visit the ' +\n",
              "            '<a target=\"_blank\" href=https://colab.research.google.com/notebooks/data_table.ipynb>data table notebook</a>'\n",
              "            + ' to learn more about interactive tables.';\n",
              "          element.innerHTML = '';\n",
              "          dataTable['output_type'] = 'display_data';\n",
              "          await google.colab.output.renderOutput(dataTable, element);\n",
              "          const docLink = document.createElement('div');\n",
              "          docLink.innerHTML = docLinkHtml;\n",
              "          element.appendChild(docLink);\n",
              "        }\n",
              "      </script>\n",
              "    </div>\n",
              "  </div>\n",
              "  "
            ]
          },
          "metadata": {},
          "execution_count": 18
        }
      ]
    },
    {
      "cell_type": "code",
      "source": [
        "df.shape"
      ],
      "metadata": {
        "execution": {
          "iopub.status.busy": "2023-03-28T07:45:25.758910Z",
          "iopub.execute_input": "2023-03-28T07:45:25.759220Z",
          "iopub.status.idle": "2023-03-28T07:45:25.765626Z",
          "shell.execute_reply.started": "2023-03-28T07:45:25.759148Z",
          "shell.execute_reply": "2023-03-28T07:45:25.764588Z"
        },
        "trusted": true,
        "colab": {
          "base_uri": "https://localhost:8080/"
        },
        "id": "76ptaxwgMSza",
        "outputId": "191d7f17-064a-44f8-a9f7-d5fc6b92526d"
      },
      "execution_count": null,
      "outputs": [
        {
          "output_type": "execute_result",
          "data": {
            "text/plain": [
              "(51999, 3)"
            ]
          },
          "metadata": {},
          "execution_count": 6
        }
      ]
    },
    {
      "cell_type": "code",
      "source": [
        "df.dropna(inplace = True)\n",
        "df.shape"
      ],
      "metadata": {
        "_uuid": "412c843421ad8cb8aaac78abdf0b2841fa4c4515",
        "execution": {
          "iopub.status.busy": "2023-03-28T07:45:28.839267Z",
          "iopub.execute_input": "2023-03-28T07:45:28.839582Z",
          "iopub.status.idle": "2023-03-28T07:45:28.869956Z",
          "shell.execute_reply.started": "2023-03-28T07:45:28.839521Z",
          "shell.execute_reply": "2023-03-28T07:45:28.869196Z"
        },
        "trusted": true,
        "colab": {
          "base_uri": "https://localhost:8080/"
        },
        "id": "LHmSScl_MSzb",
        "outputId": "4c31f914-f493-48f1-f2d4-05a63a83b5e9"
      },
      "execution_count": null,
      "outputs": [
        {
          "output_type": "execute_result",
          "data": {
            "text/plain": [
              "(51999, 3)"
            ]
          },
          "metadata": {},
          "execution_count": 7
        }
      ]
    },
    {
      "cell_type": "code",
      "source": [
        "# X = df['content']\n",
        "# y = df['category']"
      ],
      "metadata": {
        "_uuid": "69e646e0883accb0a15afcc4232cecaf0e502aba",
        "execution": {
          "iopub.status.busy": "2023-03-28T07:06:55.565129Z",
          "iopub.execute_input": "2023-03-28T07:06:55.565671Z",
          "iopub.status.idle": "2023-03-28T07:06:55.572303Z",
          "shell.execute_reply.started": "2023-03-28T07:06:55.565398Z",
          "shell.execute_reply": "2023-03-28T07:06:55.571299Z"
        },
        "trusted": true,
        "id": "wz8-rUYVMSzb"
      },
      "execution_count": null,
      "outputs": []
    },
    {
      "cell_type": "code",
      "source": [
        "\n",
        "with open(\"/content/gdrive/MyDrive/NLP/Data/stopword.txt\", \"r\") as file:\n",
        "    stopwords = []\n",
        "    for readline in file: \n",
        "        line_strip = readline.strip()\n",
        "        line_strip = word_tokenize(line_strip, format = 'text')\n",
        "        stopwords.append(line_strip)\n",
        "stopwords[0:5]"
      ],
      "metadata": {
        "execution": {
          "iopub.status.busy": "2023-03-28T07:36:29.202896Z",
          "iopub.execute_input": "2023-03-28T07:36:29.203155Z",
          "iopub.status.idle": "2023-03-28T07:36:29.210970Z",
          "shell.execute_reply.started": "2023-03-28T07:36:29.203107Z",
          "shell.execute_reply": "2023-03-28T07:36:29.210196Z"
        },
        "trusted": true,
        "colab": {
          "base_uri": "https://localhost:8080/"
        },
        "id": "RLIF4sm4MSzb",
        "outputId": "bfb0518e-543d-4f97-aa6a-72b41ad25223"
      },
      "execution_count": null,
      "outputs": [
        {
          "output_type": "execute_result",
          "data": {
            "text/plain": [
              "['a lô', 'a_ha', 'ai', 'ai ai', 'ai nấy']"
            ]
          },
          "metadata": {},
          "execution_count": 5
        }
      ]
    },
    {
      "cell_type": "code",
      "source": [
        "lines = [i.strip() for i in df['content']]\n",
        "lines[0:5]"
      ],
      "metadata": {
        "colab": {
          "base_uri": "https://localhost:8080/"
        },
        "id": "pf-S_enLMSzc",
        "outputId": "7e09a7e6-be56-4fca-98cc-53e914cc520d"
      },
      "execution_count": null,
      "outputs": [
        {
          "output_type": "execute_result",
          "data": {
            "text/plain": [
              "['Mẫu đồng hồ thông minh Galaxy Gear của Samsung - Ảnh: AFP.\\nTheo SlashGear hôm 2.10, nếu tương tác với TV thông minh thì Galaxy Gear có thể đảm nhiệm một số chức năng như: chuyển kênh, tăng giảm âm lượng, tắt mở TV...\\nNgoài ra, Galaxy Gear còn có khả năng theo dõi sức khỏe. Tức là các thông tin về sức khỏe của người dùng khi đeo thiết bị sẽ được phát đến TV để họ nắm được tình trạng sức khỏe của mình.\\nĐược biết, hiện Galaxy Gear chỉ có thể làm việc trên các thiết bị di động của Samsung như Galaxy Note 3 và Galaxy Tab 10,1 inch. Thời gian tới, các thiết bị khác như Galaxy S4, Galaxy Note 2 cũng sẽ có bản cập nhật để tương tác được với Galaxy Gear.\\nThành Luân.',\n",
              " '>> Phó Tổng thống Mỹ công du châu Á, bàn về Biển Đông.\\n>> Nhật có thể ký thỏa thuận quân sự với Philippines.\\nThủ tướng Nhật Bản Shinzo Abe.\\nDự kiến trong cuộc hội đàm, hai nhà lãnh đạo sẽ tái khẳng định cam kết thúc đẩy hợp tác song phương Tokyo-Washington. Bên cạnh đó, theo nguồn tin của Kyodo, ông Abe sẽ trao đổi với Phó Tổng thống Mỹ về lập trường của Nhật Bản đối với các vấn đề tranh chấp trên Biển Đông và biển Hoa Đông.\\nChuyến công du 3 nước Malaysia, Singapore và Philippines của ông Abe, nhằm tăng cường hợp tác kinh tế và an ninh với các thành viên của Hiệp hội các quốc gia Đông Nam Á (ASEAN), bắt đầu từ ngày 25/7, diễn ra trong bối cảnh yêu sách chủ quyền cứng rắn của Trung Quốc trên Biển Đông đang dấy lên những mối lo ngại lớn về an ninh khu vực.\\nBắc Kinh dường như đang tránh bị cô lập ở khu vực trong các vấn đề như vậy khi miễn cưỡng đồng ý tham vấn chính thức với ASEAN về bộ quy tắc ứng xử trên Biển Đông (COC) nhằm ngăn ngừa xung đột ở vùng biển này. Trong khi đó, tranh chấp chủ quyền đối với nhóm đảo Senkaku/Điếu Ngư trên biển Hoa Đông giữa Tokyo và Bắc Kinh vẫn đang căng thẳng.\\nTrong khi đó, Phó Tổng thống Mỹ Joe Biden dự kiến sẽ đặt vấn đề giải quyết căng thẳng tranh chấp trên Biển Đông lên hàng đầu trong chuyến công du kéo tài 1 tuần tới Ấn Độ và Singapore bắt đầu từ thứ 2 tuần tới (22/7).\\nMinh Châu.',\n",
              " 'Hàng ngàn học sinh sau khi tốt nghiệp THCS đã không dự thi vào THPT. Riêng huyện Tương Dương có hơn 430 em trong tổng số hơn 1.100 em sau khi tốt nghiệp THCS đã không dự thi lên lớp 10. Được biết trước đó, các trường THCS đã đẩy mạnh tuyên truyền chủ trương phân luồng với nội dung: Sau khi học xong lớp 9, các em có thể đi học nghề hoặc ở nhà giúp đỡ bố mẹ để tiết kiệm chi phí cho gia đình và xã hội, sau đó tìm con đường lập nghiệp mới... Tuy nhiên, điều nghịch lý là hầu hết các huyện miền núi đều thiếu trung tâm dạy nghề. Các em hầu hết là dân tộc thiểu số, tuổi còn nhỏ (14 đến 16 tuổi), hoàn cảnh khó khăn, không thể đi xa đến các thành phố để học nghề. Đ.LAM.',\n",
              " 'Mr Búp Bê (BB): Hay là bạn phải đến kèm cho cô em học nhỉ? Chưa chắc cô ấy đã muốn thế vì như vậy cũng bao hàm khá nhiều nguy cơ, chưa chừng em gái vẫn không đỗ mà lại đỗ cái khác. Ặc ặc! Hoặc giả cô ấy không muốn yêu bạn nữa mà dành thời gian để kèm em học chăng? BB e rằng nguyên nhân không nằm trong việc cô em đỗ hay trượt, mà ở việc khác. Thử tìm hiểu thêm, có thể tình yêu của bạn không được thiết thực lắm chăng (chỉ biết nói?). Hazzzzz! Em phải đi học xa nhà và xa cô ấy. Gần đây, khi em nhắn tin điện thoại cho cô ấy thì luôn nhận được trả lời rất muộn, thậm chí có lúc không trả lời. Hỏi thì cô ấy nói, em nên gửi mail thì tiện hơn. Thế là sao hả anh BB? Vũ Liên Th. (Bắc Kạn) Cứ thế này, chắc đến ngày cô ấy đề nghị em nên gửi thư qua bưu điện. Cũng hay, nếu cô ấy có hứng thú sưu tập tem. Theo anh, nếu tài khoản điện thoại của em xông xênh, em nên gọi trực tiếp. Và, nếu kết quả học tập của em ổn, em nên về thăm nhà và thăm cô ấy. Có gì trở ngại biết ngay mà. Khi thực sự yêu, người ta mong liên lạc với nhau càng nhanh và càng nhiều càng tốt. Còn ngược lại thôi chả nói nữa đâu. Em đang tấn công người ta, thì sinh nhật em, người ta lại tặng em một bức tượng sứ có hình hai con hươu chụm đầu vào nhau gặm cỏ. Bạn em bảo thế là anh ấy muốn chúc mày hạnh phúc và đừng nghĩ đến anh ấy nữa. Có phải thế không anh BB nhỉ? Vâncd (Phú Thọ) BB thì thấy hai con hươu gặm cỏ gợi lên sự bình yên và no ấm. Nói chung đa số các chàng trai không nói vòng vèo lắt léo qua quà tặng thế đâu. Nhưng để khách quan hơn, BB đang gửi câu hỏi của em đến Tổng cục Tình báo và Trung tâm dự báo thời tiết để xin trợ giúp. Em chờ thêm nhé.',\n",
              " 'Trang Wired mới đây đưa thông tin cậu bé Ammar Malik (10 tuổi) có thể đăng nhập dễ dàng vào iPhone X dùng Face ID của mẹ mình mặc dù trông cậu giống bố hơn.\\nĐôi vợ chồng Attaullah Malik và Sana Sherwani phát hiện ra vấn đề hồi đầu tháng khi cậu con trai học lớp 5 của họ, Ammar Malik, bước vào phòng để xem 2 chiếc iPhone X mới mua.\\nMalik cho cậu bé nhìn thử vào chiếc iPhone X đã cài Face ID nhưng cậu bé lại nhặt chiếc điện thoại của mẹ. Bỗng dưng, nó mở khóa trong vòng nửa giây.\\nGia đình 4 thành viên nhà Malik. Cậu bé trông giống bố nhiều hơn.\\nCặp đôi này khá sốc còn cậu bé thì vui mừng. Ban đầu, cả gia đình đều rất vui vẻ, nhưng sau đó mọi chuyện phức tạp hơn.\\nTôi và vợ thường xuyên nhắn tin và có những nội dung không muốn cậu bé đọc được. Hiện tại, vợ tôi phải xóa tin nhắn thường trực vì sợ Ammar nhìn thấy, Malik cho biết.\\nVới Face ID, Apple tự hào gọi nó là hệ thống nhận diện tiên tiến nhất với tỷ lệ nhận diện sai là một phần triệu. Tuy nhiên, thực tế là nhiều cặp song sinh có thể qua mặt nó dễ dàng.\\nNhiều người dùng cho hay thậm chí không cần các cặp song sinh, chỉ cần 2 anh em (hoặc chị em) có gương mặt tương đối giống nhau cũng có thể đánh lừa Face ID. Trong trường hợp của Malik, có vẻ như 2 mẹ con cũng có thể dùng chung Face ID.\\nKhi Ammar thử điện thoại của Malik, nó chỉ bị mở khóa một lần. Anh tỏ ra khá ngạc nhiên bởi mặt của con trai mình nhỏ hơn khá nhiều so với mặt mẹ. Cả hai cũng có nhiều điểm khác biệt. Mọi người thường nói nó giống tôi hơn, Malik nói.\\nTheo Wired, trường hợp của gia đình Malik chỉ ra rằng nếu cha mẹ không để ý kỹ, một đứa trẻ may mắn có thể vô tình truy cập và biết hết bí mật trong chiếc iPhone X của bố mẹ chúng.\\nDù mới ra mắt thị trường chưa lâu nhưng Face ID của iPhone X dường như cho thấy độ bảo mật an toàn không cao.\\nSáng 15/11, công ty bảo mật của Việt Nam là Bkav đã công bố đánh lừa được Face ID bằng một chiếc mặt nạ in 3D với mũi silicone.\\nCấu trúc chiếc mặt nạ đánh lừa được iPhone X.\\nSự kiện công bố cách dùng mặt nạ vượt qua Face ID của Bkav đã được phát trực tiếp (Live Stream) lên trang Facebook và thu hút hàng nghìn lượt xem.\\nSự kiện này có sự góp mặt của Giám đốc điều hành (CEO) của Bkav  ông Nguyễn Tử Quảng và cộng sự Ngô Tuấn Anh  Phó chủ tịch phụ trách an ninh mạng của Bkav.\\nÔng Quảng cho hay, để tạo ra chiếc mặt nạ đặc biệt này, ông và các cộng sự đã phải vượt qua 3 thách thức: ảnh chụp mặt người dùng; tạo khuôn mặt 3D và AI (Artificial Intelligence) trí tuệ nhân tạo giúp nhận diện mặt nạ và mặt người.\\nChiếc mặt nạ mà Bkav tạo ra gặp khó khăn nhất ở công nghệ AI. Trong sự kiện ra mắt iPhone X, Bkav phát hiện công nghệ AI của iPhone X có lỗ hổng. Bkav thấu hiểu cách AI làm việc và đã tiến hành thử nghiệm xem AI có thể phân biệt mặt nạ một nửa thật, một nửa giả hay không?\\nSau 5 phút thử nghiệm, iPhone X thực sự đã bị đánh lừa bằng 1 mặt nạ nửa thật nửa giả: mũi silicon, ảnh 2D ở mắt, mồm, mặt được dính keo.\\nTuy nhiên, chiếc mặt nạ này chỉ đánh lừa được Face ID ở 1 phạm vi góc nhỏ. Chiếc mặt nạ đánh lừa Face ID rất dễ tạo ra nhưng cần sự tham gia của những chuyên gia công nghệ.\\nPhương Uyên (Tổng hợp).']"
            ]
          },
          "metadata": {},
          "execution_count": 6
        }
      ]
    },
    {
      "cell_type": "code",
      "source": [
        "'''\n",
        "Here we will do preprocessing\n",
        "1. Removing punctuations\n",
        "2. Lowering all words\n",
        "3. removing non-alphabet things\n",
        "4. removing stop words\n",
        "5. Tokenizing the sentence\n",
        "'''\n",
        "from underthesea import word_tokenize\n",
        "import string\n",
        "\n",
        "review_lines = list()\n",
        "\n",
        "for line in lines:\n",
        "    \n",
        "    '''\n",
        "    breaks line into it's sub parts like each word and comma etc,\n",
        "    https://pythonspot.com/tokenizing-words-and-sentences-with-nltk/\n",
        "    '''\n",
        "    tokens = word_tokenize(line)   \n",
        "    \n",
        "     #convert to lower case\n",
        "    tokens = [w.lower() for w in tokens]\n",
        "    \n",
        "    #remove punctuation from each word\n",
        "    # brief detail: https://pythonadventures.wordpress.com/2017/02/05/remove-punctuations-from-a-text/\n",
        "    table = str.maketrans('','', string.punctuation)\n",
        "    stripped = [w.translate(table) for w in tokens]\n",
        "     \n",
        "    # remove remaining tokens that are not alphabetic\n",
        "    words = [w for w in stripped if w.isalpha()]\n",
        "    \n",
        "    # filter out stop words\n",
        "    stop_words = set(stopwords)\n",
        "    words = [w for w in words if w not in stop_words]\n",
        "    \n",
        "    review_lines.append(words)\n",
        "review_lines[0:5]"
      ],
      "metadata": {
        "_uuid": "1dd50a20edb8f578a8ab8f9d533c2d52df93183c",
        "execution": {
          "iopub.status.busy": "2023-03-28T07:43:27.647085Z",
          "iopub.status.idle": "2023-03-28T07:43:27.648058Z"
        },
        "trusted": true,
        "colab": {
          "base_uri": "https://localhost:8080/"
        },
        "id": "8ugLonu5MSzc",
        "outputId": "72198168-095e-491c-c0ef-d306d27d2269"
      },
      "execution_count": null,
      "outputs": [
        {
          "output_type": "execute_result",
          "data": {
            "text/plain": [
              "[['mẫu',\n",
              "  'samsung',\n",
              "  'ảnh',\n",
              "  'afp',\n",
              "  'slashgear',\n",
              "  'hôm',\n",
              "  'tv',\n",
              "  'kênh',\n",
              "  'tắt',\n",
              "  'đeo',\n",
              "  'phát',\n",
              "  'tv',\n",
              "  'nắm',\n",
              "  'hiện',\n",
              "  'samsung',\n",
              "  'inch',\n",
              "  'galaxy',\n",
              "  'gear'],\n",
              " ['mỹ',\n",
              "  'bàn',\n",
              "  'ký',\n",
              "  'philippines',\n",
              "  'hai',\n",
              "  'tái',\n",
              "  'tokyowashington',\n",
              "  'kyodo',\n",
              "  'abe',\n",
              "  'mỹ',\n",
              "  'biển',\n",
              "  'malaysia',\n",
              "  'singapore',\n",
              "  'philippines',\n",
              "  'abe',\n",
              "  'asean',\n",
              "  'diễn',\n",
              "  'dấy',\n",
              "  'asean',\n",
              "  'coc',\n",
              "  'đảo',\n",
              "  'senkaku',\n",
              "  'điếu',\n",
              "  'ngư',\n",
              "  'biển',\n",
              "  'tokyo',\n",
              "  'mỹ',\n",
              "  'chuyến',\n",
              "  'kéo',\n",
              "  'tài',\n",
              "  'tuần',\n",
              "  'singapore',\n",
              "  'tuần'],\n",
              " ['hàng',\n",
              "  'ngàn',\n",
              "  'thcs',\n",
              "  'dự',\n",
              "  'thi',\n",
              "  'huyện',\n",
              "  'thcs',\n",
              "  'dự',\n",
              "  'thi',\n",
              "  'trường',\n",
              "  'thcs',\n",
              "  'học',\n",
              "  'xong',\n",
              "  'lớp',\n",
              "  'đi',\n",
              "  'học',\n",
              "  'nghề',\n",
              "  'đường',\n",
              "  'huyện',\n",
              "  'miền',\n",
              "  'núi',\n",
              "  'dạy',\n",
              "  'nghề',\n",
              "  'đi',\n",
              "  'học',\n",
              "  'nghề'],\n",
              " ['mr',\n",
              "  'bb',\n",
              "  'kèm',\n",
              "  'học',\n",
              "  'đỗ',\n",
              "  'đỗ',\n",
              "  'yêu',\n",
              "  'kèm',\n",
              "  'học',\n",
              "  'nằm',\n",
              "  'đỗ',\n",
              "  'trượt',\n",
              "  'lắm',\n",
              "  'hazzzzz',\n",
              "  'đi',\n",
              "  'học',\n",
              "  'muộn',\n",
              "  'gửi',\n",
              "  'mail',\n",
              "  'tiện',\n",
              "  'hả',\n",
              "  'bb',\n",
              "  'vũ',\n",
              "  'liên',\n",
              "  'gửi',\n",
              "  'thư',\n",
              "  'tem',\n",
              "  'xông',\n",
              "  'xênh',\n",
              "  'gọi',\n",
              "  'ổn',\n",
              "  'thăm',\n",
              "  'thăm',\n",
              "  'yêu',\n",
              "  'mong',\n",
              "  'chả',\n",
              "  'tặng',\n",
              "  'tượng',\n",
              "  'sứ',\n",
              "  'hình',\n",
              "  'hai',\n",
              "  'hươu',\n",
              "  'chụm',\n",
              "  'đầu',\n",
              "  'gặm',\n",
              "  'cỏ',\n",
              "  'bảo',\n",
              "  'chúc',\n",
              "  'mày',\n",
              "  'đừng',\n",
              "  'bb',\n",
              "  'bb',\n",
              "  'hai',\n",
              "  'hươu',\n",
              "  'gặm',\n",
              "  'cỏ',\n",
              "  'gợi',\n",
              "  'chàng',\n",
              "  'trai',\n",
              "  'quà',\n",
              "  'tặng',\n",
              "  'bb',\n",
              "  'gửi',\n",
              "  'câu',\n",
              "  'chờ'],\n",
              " ['bé',\n",
              "  'đăng',\n",
              "  'nhập',\n",
              "  'iphone',\n",
              "  'x',\n",
              "  'mẹ',\n",
              "  'trông',\n",
              "  'bố',\n",
              "  'hồi',\n",
              "  'đầu',\n",
              "  'học',\n",
              "  'lớp',\n",
              "  'phòng',\n",
              "  'iphone',\n",
              "  'x',\n",
              "  'mua',\n",
              "  'bé',\n",
              "  'thử',\n",
              "  'iphone',\n",
              "  'x',\n",
              "  'cài',\n",
              "  'bé',\n",
              "  'nhặt',\n",
              "  'mẹ',\n",
              "  'khóa',\n",
              "  'vòng',\n",
              "  'nửa',\n",
              "  'giây',\n",
              "  'malik',\n",
              "  'bé',\n",
              "  'trông',\n",
              "  'bố',\n",
              "  'sốc',\n",
              "  'bé',\n",
              "  'vợ',\n",
              "  'bé',\n",
              "  'đọc',\n",
              "  'vợ',\n",
              "  'xóa',\n",
              "  'nhắn',\n",
              "  'sợ',\n",
              "  'ammar',\n",
              "  'malik',\n",
              "  'apple',\n",
              "  'gọi',\n",
              "  'sai',\n",
              "  'triệu',\n",
              "  'cặp',\n",
              "  'cặp',\n",
              "  'malik',\n",
              "  'mẹ',\n",
              "  'face',\n",
              "  'id',\n",
              "  'ammar',\n",
              "  'thử',\n",
              "  'malik',\n",
              "  'khóa',\n",
              "  'tỏ',\n",
              "  'mặt',\n",
              "  'trai',\n",
              "  'mặt',\n",
              "  'mẹ',\n",
              "  'hai',\n",
              "  'malik',\n",
              "  'wired',\n",
              "  'malik',\n",
              "  'kỹ',\n",
              "  'đứa',\n",
              "  'trẻ',\n",
              "  'iphone',\n",
              "  'x',\n",
              "  'iphone',\n",
              "  'x',\n",
              "  'độ',\n",
              "  'bkav',\n",
              "  'in',\n",
              "  'mũi',\n",
              "  'silicone',\n",
              "  'iphone',\n",
              "  'x',\n",
              "  'bkav',\n",
              "  'phát',\n",
              "  'facebook',\n",
              "  'hàng',\n",
              "  'nghìn',\n",
              "  'lượt',\n",
              "  'ceo',\n",
              "  'bkav',\n",
              "  'phó',\n",
              "  'mạng',\n",
              "  'bkav',\n",
              "  'quảng',\n",
              "  'ảnh',\n",
              "  'chụp',\n",
              "  'mặt',\n",
              "  'giúp',\n",
              "  'mặt',\n",
              "  'bkav',\n",
              "  'iphone',\n",
              "  'x',\n",
              "  'bkav',\n",
              "  'iphone',\n",
              "  'x',\n",
              "  'nửa',\n",
              "  'giả',\n",
              "  'phút',\n",
              "  'iphone',\n",
              "  'x',\n",
              "  'nửa',\n",
              "  'nửa',\n",
              "  'giả',\n",
              "  'mũi',\n",
              "  'silicon',\n",
              "  'ảnh',\n",
              "  'mắt',\n",
              "  'mồm',\n",
              "  'mặt',\n",
              "  'dính',\n",
              "  'keo',\n",
              "  'góc']]"
            ]
          },
          "metadata": {},
          "execution_count": 7
        }
      ]
    },
    {
      "cell_type": "code",
      "source": [
        "review_liness = []\n",
        "for word in review_lines:\n",
        "  result = \" \".join(w for w in word)\n",
        "  review_liness.append(result)\n"
      ],
      "metadata": {
        "id": "2D4-_NFttX-D"
      },
      "execution_count": null,
      "outputs": []
    },
    {
      "cell_type": "code",
      "source": [
        "review_liness[0:10]"
      ],
      "metadata": {
        "colab": {
          "base_uri": "https://localhost:8080/"
        },
        "id": "gvjXXvI_uwO9",
        "outputId": "468f79ae-f316-45cc-d55b-aef0675e2988"
      },
      "execution_count": null,
      "outputs": [
        {
          "output_type": "execute_result",
          "data": {
            "text/plain": [
              "['mẫu samsung ảnh afp slashgear hôm tv kênh tắt đeo phát tv nắm hiện samsung inch galaxy gear',\n",
              " 'mỹ bàn ký philippines hai tái tokyowashington kyodo abe mỹ biển malaysia singapore philippines abe asean diễn dấy asean coc đảo senkaku điếu ngư biển tokyo mỹ chuyến kéo tài tuần singapore tuần',\n",
              " 'hàng ngàn thcs dự thi huyện thcs dự thi trường thcs học xong lớp đi học nghề đường huyện miền núi dạy nghề đi học nghề',\n",
              " 'mr bb kèm học đỗ đỗ yêu kèm học nằm đỗ trượt lắm hazzzzz đi học muộn gửi mail tiện hả bb vũ liên gửi thư tem xông xênh gọi ổn thăm thăm yêu mong chả tặng tượng sứ hình hai hươu chụm đầu gặm cỏ bảo chúc mày đừng bb bb hai hươu gặm cỏ gợi chàng trai quà tặng bb gửi câu chờ',\n",
              " 'bé đăng nhập iphone x mẹ trông bố hồi đầu học lớp phòng iphone x mua bé thử iphone x cài bé nhặt mẹ khóa vòng nửa giây malik bé trông bố sốc bé vợ bé đọc vợ xóa nhắn sợ ammar malik apple gọi sai triệu cặp cặp malik mẹ face id ammar thử malik khóa tỏ mặt trai mặt mẹ hai malik wired malik kỹ đứa trẻ iphone x iphone x độ bkav in mũi silicone iphone x bkav phát facebook hàng nghìn lượt ceo bkav phó mạng bkav quảng ảnh chụp mặt giúp mặt bkav iphone x bkav iphone x nửa giả phút iphone x nửa nửa giả mũi silicon ảnh mắt mồm mặt dính keo góc',\n",
              " 'bầu chức ảnh vgp đảng đảng bầu kỳ họp khóa xiv pv dân việt nguyên phó ban bầu chức đem đảng hai bớt đứng đầu thưởng nguyên phó ban ảnh chức đảng thưởng đảng thưởng pv dân việt ta đứng đứng đầu ta vị hội đức tài tâm dân lương kết',\n",
              " 'trẻ học nể bé chẳng câu bé nắm xây bé trẻ nản bé môn viết môn tập viết học đi học môn thử tập môn trẻ viết quyển môn đi học chép bé ôn học trẻ trẻ tập luận học trẻ chân nhảy học trẻ hai bé lớp học hạn nộp nộp tuần bé chiều giúp bé học trẻ chỉnh sửa môn học bé lập bé bàn học đừng bàn học giúp trẻ học khuyên bé học bàn giúp bày bừa ghế giúp lưng trẻ đôi chân chạm đất trẻ tập sách chỗ bé cuống đi tờ giấy ghi học thi học học học cắt ngang dòng tv nhạc chat tập học bé lỡ nhạc nhạc email lướt blog trẻ bé học bé học xoay hông phút',\n",
              " 'lớp học nghề hộ dân hướng nghề xã huyện học nghề thăm quan trồng hoa vietgap xã huyện dân xã trồng hoa phó ubnd xã ha đất nằm khu ecopark hộ đất dân học nghề chủ ecopark xã lớp học nghề lớp trồng hoa vietgap lớp may công lớp trồng hoa vietgap học xong lớp quý iv đôn khóa học học dân học nghề dân đồng học lớp học nghề trồng hoa thôn xã trồng sào hiện cm vốn quen trồng lúa trồng hoa học nghề đi xã ha hoa dân xã thu triệu đồng học nghề trồng hoa đất luống cắt mầm giâm cành hiện sào đất trồng trồng chuối học nghề thợ trồng hoa chiến ha hoa ha chuối trồng hoa vụ chuối trồng hoa htx nghề trồng hoa cắt giâm cành lá bấm mầm rễ cắt nhúng mầm thuốc chống thối giâm nam',\n",
              " 'mùa hè hàng triệu phát khu rừng đẹp yu hashimoto hiroyuki shinohara yume cyan nomiyama kei asuka fumial daisuke aochi zabby phat trien',\n",
              " 'khối tim gan hiến xuyên việt nam bắc cứu sống niềm đi ghép tạng ngang sống ghép tạng rẻ ghép tạng đầu ghép mô tạng cánh chim bv việt đức bv ca ghép thận ca ghép thận ca ghép gan ca ghép tim ca ghép tụy ca ghép suy tim thận gan phổi chờ ghép tạng mù chờ ghép việt đức ca trường hiến tặng mô tạng ghép hiến tạng hiến sống ca ghép tạng sống tạng ghép chờ ghép tạng giúp mắc bệnh mô tạng ngành ghép tạng ghép ghép ca ca ghép luật hiến ghép mô hiến xác hiến tạng chết giúp ngành ghép tạng hiến ghép tạng vietnamnet hiến tạng sống h pgđ ghép pgsts trưởng khoa việt đức ths pgđ ghép ts trưởng ghép tạng mời câu ban']"
            ]
          },
          "metadata": {},
          "execution_count": 20
        }
      ]
    },
    {
      "cell_type": "code",
      "source": [
        "def save_Content(ListContent, filename):\n",
        "    with open(filename, 'w', encoding='utf-8') as f:\n",
        "        for item in ListContent:\n",
        "            f.write(\"%s\\n\" % item)\n",
        "        f.close()\n"
      ],
      "metadata": {
        "id": "TuWJdReIl60c"
      },
      "execution_count": null,
      "outputs": []
    },
    {
      "cell_type": "code",
      "source": [
        "save_Content(review_liness, \"/content/gdrive/MyDrive/NLP/Data/New_Clean_data_Content.txt\")"
      ],
      "metadata": {
        "id": "snSkuWPcnfCo"
      },
      "execution_count": null,
      "outputs": []
    },
    {
      "cell_type": "code",
      "source": [
        "\n",
        "def read_file(file):\n",
        "    with open(file, 'r', encoding='utf-8') as f:\n",
        "        line = f.readlines()\n",
        "        lines = list(m.replace(\"\\n\",\"\") for m in line)\n",
        "        # print(line)\n",
        "    f.close()\n",
        "    return lines"
      ],
      "metadata": {
        "id": "THLYttwzu9oP"
      },
      "execution_count": 4,
      "outputs": []
    },
    {
      "cell_type": "code",
      "source": [
        "Content = read_file(\"/content/gdrive/MyDrive/NLP/Data/New_Clean_data_Content.txt\")"
      ],
      "metadata": {
        "id": "_DZWr3lZu_17"
      },
      "execution_count": 5,
      "outputs": []
    },
    {
      "cell_type": "code",
      "source": [
        "Content[0:5]"
      ],
      "metadata": {
        "colab": {
          "base_uri": "https://localhost:8080/"
        },
        "id": "3_y8xKlYvIFW",
        "outputId": "8db9f8fd-6254-46d6-fb70-71ab30b1b973"
      },
      "execution_count": 6,
      "outputs": [
        {
          "output_type": "execute_result",
          "data": {
            "text/plain": [
              "['mẫu samsung ảnh afp slashgear hôm tv kênh tắt đeo phát tv nắm hiện samsung inch galaxy gear',\n",
              " 'mỹ bàn ký philippines hai tái tokyowashington kyodo abe mỹ biển malaysia singapore philippines abe asean diễn dấy asean coc đảo senkaku điếu ngư biển tokyo mỹ chuyến kéo tài tuần singapore tuần',\n",
              " 'hàng ngàn thcs dự thi huyện thcs dự thi trường thcs học xong lớp đi học nghề đường huyện miền núi dạy nghề đi học nghề',\n",
              " 'mr bb kèm học đỗ đỗ yêu kèm học nằm đỗ trượt lắm hazzzzz đi học muộn gửi mail tiện hả bb vũ liên gửi thư tem xông xênh gọi ổn thăm thăm yêu mong chả tặng tượng sứ hình hai hươu chụm đầu gặm cỏ bảo chúc mày đừng bb bb hai hươu gặm cỏ gợi chàng trai quà tặng bb gửi câu chờ',\n",
              " 'bé đăng nhập iphone x mẹ trông bố hồi đầu học lớp phòng iphone x mua bé thử iphone x cài bé nhặt mẹ khóa vòng nửa giây malik bé trông bố sốc bé vợ bé đọc vợ xóa nhắn sợ ammar malik apple gọi sai triệu cặp cặp malik mẹ face id ammar thử malik khóa tỏ mặt trai mặt mẹ hai malik wired malik kỹ đứa trẻ iphone x iphone x độ bkav in mũi silicone iphone x bkav phát facebook hàng nghìn lượt ceo bkav phó mạng bkav quảng ảnh chụp mặt giúp mặt bkav iphone x bkav iphone x nửa giả phút iphone x nửa nửa giả mũi silicon ảnh mắt mồm mặt dính keo góc']"
            ]
          },
          "metadata": {},
          "execution_count": 6
        }
      ]
    },
    {
      "cell_type": "code",
      "source": [
        "from underthesea import word_tokenize\n",
        "\n",
        "def read_data(List_word):\n",
        "    traindata = []\n",
        "    for sent in List_word:\n",
        "        traindata.append(word_tokenize(sent))\n",
        "    return traindata"
      ],
      "metadata": {
        "id": "9Jqz4k-m5Hb0"
      },
      "execution_count": 22,
      "outputs": []
    },
    {
      "cell_type": "code",
      "source": [
        "train_data = read_data(Content)\n",
        "train_data[0:5]"
      ],
      "metadata": {
        "colab": {
          "base_uri": "https://localhost:8080/"
        },
        "id": "zlFHSzBq5sV2",
        "outputId": "c19fcd31-e55d-4003-ff0e-6f75c0e69e13"
      },
      "execution_count": 24,
      "outputs": [
        {
          "output_type": "execute_result",
          "data": {
            "text/plain": [
              "[['mẫu',\n",
              "  'samsung',\n",
              "  'ảnh',\n",
              "  'afp',\n",
              "  'slashgear',\n",
              "  'hôm',\n",
              "  'tv',\n",
              "  'kênh',\n",
              "  'tắt',\n",
              "  'đeo',\n",
              "  'phát',\n",
              "  'tv',\n",
              "  'nắm',\n",
              "  'hiện',\n",
              "  'samsung',\n",
              "  'inch',\n",
              "  'galaxy',\n",
              "  'gear'],\n",
              " ['mỹ',\n",
              "  'bàn',\n",
              "  'ký',\n",
              "  'philippines',\n",
              "  'hai',\n",
              "  'tái',\n",
              "  'tokyowashington',\n",
              "  'kyodo',\n",
              "  'abe',\n",
              "  'mỹ',\n",
              "  'biển',\n",
              "  'malaysia',\n",
              "  'singapore',\n",
              "  'philippines',\n",
              "  'abe',\n",
              "  'asean',\n",
              "  'diễn',\n",
              "  'dấy',\n",
              "  'asean',\n",
              "  'coc',\n",
              "  'đảo',\n",
              "  'senkaku',\n",
              "  'điếu',\n",
              "  'ngư',\n",
              "  'biển',\n",
              "  'tokyo',\n",
              "  'mỹ',\n",
              "  'chuyến',\n",
              "  'kéo',\n",
              "  'tài',\n",
              "  'tuần',\n",
              "  'singapore',\n",
              "  'tuần'],\n",
              " ['hàng',\n",
              "  'ngàn',\n",
              "  'thcs',\n",
              "  'dự',\n",
              "  'thi',\n",
              "  'huyện',\n",
              "  'thcs',\n",
              "  'dự',\n",
              "  'thi',\n",
              "  'trường',\n",
              "  'thcs',\n",
              "  'học',\n",
              "  'xong',\n",
              "  'lớp',\n",
              "  'đi',\n",
              "  'học',\n",
              "  'nghề',\n",
              "  'đường',\n",
              "  'huyện',\n",
              "  'miền',\n",
              "  'núi',\n",
              "  'dạy',\n",
              "  'nghề',\n",
              "  'đi',\n",
              "  'học',\n",
              "  'nghề'],\n",
              " ['mr',\n",
              "  'bb',\n",
              "  'kèm',\n",
              "  'học',\n",
              "  'đỗ',\n",
              "  'đỗ',\n",
              "  'yêu',\n",
              "  'kèm',\n",
              "  'học',\n",
              "  'nằm',\n",
              "  'đỗ',\n",
              "  'trượt',\n",
              "  'lắm',\n",
              "  'hazzzzz',\n",
              "  'đi',\n",
              "  'học',\n",
              "  'muộn',\n",
              "  'gửi',\n",
              "  'mail',\n",
              "  'tiện',\n",
              "  'hả',\n",
              "  'bb',\n",
              "  'vũ',\n",
              "  'liên',\n",
              "  'gửi',\n",
              "  'thư',\n",
              "  'tem',\n",
              "  'xông',\n",
              "  'xênh',\n",
              "  'gọi',\n",
              "  'ổn',\n",
              "  'thăm',\n",
              "  'thăm',\n",
              "  'yêu',\n",
              "  'mong',\n",
              "  'chả',\n",
              "  'tặng',\n",
              "  'tượng',\n",
              "  'sứ',\n",
              "  'hình',\n",
              "  'hai',\n",
              "  'hươu',\n",
              "  'chụm đầu',\n",
              "  'gặm',\n",
              "  'cỏ',\n",
              "  'bảo',\n",
              "  'chúc',\n",
              "  'mày',\n",
              "  'đừng',\n",
              "  'bb',\n",
              "  'bb',\n",
              "  'hai',\n",
              "  'hươu',\n",
              "  'gặm',\n",
              "  'cỏ',\n",
              "  'gợi',\n",
              "  'chàng',\n",
              "  'trai',\n",
              "  'quà',\n",
              "  'tặng',\n",
              "  'bb',\n",
              "  'gửi',\n",
              "  'câu',\n",
              "  'chờ'],\n",
              " ['bé',\n",
              "  'đăng',\n",
              "  'nhập',\n",
              "  'iphone',\n",
              "  'x',\n",
              "  'mẹ',\n",
              "  'trông',\n",
              "  'bố',\n",
              "  'hồi',\n",
              "  'đầu',\n",
              "  'học',\n",
              "  'lớp',\n",
              "  'phòng',\n",
              "  'iphone',\n",
              "  'x',\n",
              "  'mua',\n",
              "  'bé',\n",
              "  'thử',\n",
              "  'iphone',\n",
              "  'x',\n",
              "  'cài',\n",
              "  'bé',\n",
              "  'nhặt',\n",
              "  'mẹ',\n",
              "  'khóa',\n",
              "  'vòng',\n",
              "  'nửa',\n",
              "  'giây',\n",
              "  'malik',\n",
              "  'bé',\n",
              "  'trông',\n",
              "  'bố',\n",
              "  'sốc',\n",
              "  'bé',\n",
              "  'vợ',\n",
              "  'bé',\n",
              "  'đọc',\n",
              "  'vợ',\n",
              "  'xóa',\n",
              "  'nhắn',\n",
              "  'sợ',\n",
              "  'ammar',\n",
              "  'malik',\n",
              "  'apple',\n",
              "  'gọi',\n",
              "  'sai',\n",
              "  'triệu',\n",
              "  'cặp',\n",
              "  'cặp',\n",
              "  'malik',\n",
              "  'mẹ',\n",
              "  'face',\n",
              "  'id',\n",
              "  'ammar',\n",
              "  'thử',\n",
              "  'malik',\n",
              "  'khóa',\n",
              "  'tỏ',\n",
              "  'mặt',\n",
              "  'trai',\n",
              "  'mặt',\n",
              "  'mẹ',\n",
              "  'hai',\n",
              "  'malik',\n",
              "  'wired',\n",
              "  'malik',\n",
              "  'kỹ',\n",
              "  'đứa',\n",
              "  'trẻ',\n",
              "  'iphone',\n",
              "  'x',\n",
              "  'iphone',\n",
              "  'x',\n",
              "  'độ',\n",
              "  'bkav',\n",
              "  'in',\n",
              "  'mũi',\n",
              "  'silicone',\n",
              "  'iphone',\n",
              "  'x',\n",
              "  'bkav',\n",
              "  'phát',\n",
              "  'facebook',\n",
              "  'hàng',\n",
              "  'nghìn',\n",
              "  'lượt',\n",
              "  'ceo',\n",
              "  'bkav',\n",
              "  'phó',\n",
              "  'mạng',\n",
              "  'bkav',\n",
              "  'quảng',\n",
              "  'ảnh',\n",
              "  'chụp',\n",
              "  'mặt',\n",
              "  'giúp',\n",
              "  'mặt',\n",
              "  'bkav',\n",
              "  'iphone',\n",
              "  'x',\n",
              "  'bkav',\n",
              "  'iphone',\n",
              "  'x',\n",
              "  'nửa',\n",
              "  'giả',\n",
              "  'phút',\n",
              "  'iphone',\n",
              "  'x',\n",
              "  'nửa',\n",
              "  'nửa',\n",
              "  'giả',\n",
              "  'mũi',\n",
              "  'silicon',\n",
              "  'ảnh',\n",
              "  'mắt',\n",
              "  'mồm',\n",
              "  'mặt',\n",
              "  'dính',\n",
              "  'keo',\n",
              "  'góc']]"
            ]
          },
          "metadata": {},
          "execution_count": 24
        }
      ]
    },
    {
      "cell_type": "code",
      "source": [
        "'''\n",
        "gensim is python library for training word embeddings in given data\n",
        "for more information visit: \n",
        "1. https://machinelearningmastery.com/develop-word-embeddings-python-gensim/\n",
        "2. http://kavita-ganesan.com/gensim-word2vec-tutorial-starter-code/#.XEoWKVwzbIV\n",
        "'''\n",
        "import gensim\n",
        "import multiprocessing\n",
        "\n",
        "cores = multiprocessing.cpu_count()\n",
        "\n",
        "embedding_vector_size = 300\n",
        "# now training embeddings for each word \n",
        "w2v_model = gensim.models.Word2Vec(min_count=20,\n",
        "                     window=2,\n",
        "                     vector_size=300,\n",
        "                     sample=6e-5, \n",
        "                     alpha=0.03, \n",
        "                     min_alpha=0.0007, \n",
        "                     negative=20,\n",
        "                     workers=cores-1)\n",
        "\n",
        "# # to get total number of unique words\n",
        "# words = list(model_1.wv.vocab)\n",
        "\n",
        "# print(\"vocab size:\", len(words))"
      ],
      "metadata": {
        "_uuid": "ae04942364945ebfde23943ad80dc622f6d8791d",
        "execution": {
          "iopub.status.busy": "2023-03-28T07:10:44.840157Z",
          "iopub.execute_input": "2023-03-28T07:10:44.840662Z",
          "iopub.status.idle": "2023-03-28T07:12:44.892665Z",
          "shell.execute_reply.started": "2023-03-28T07:10:44.840553Z",
          "shell.execute_reply": "2023-03-28T07:12:44.891679Z"
        },
        "trusted": true,
        "id": "unuSSd1zMSzd"
      },
      "execution_count": 26,
      "outputs": []
    },
    {
      "cell_type": "code",
      "source": [
        "from time import time\n",
        "t = time()\n",
        "\n",
        "w2v_model.build_vocab(train_data, progress_per=10000)\n",
        "\n",
        "print('Time to build vocab: {} mins'.format(round((time() - t) / 60, 2)))"
      ],
      "metadata": {
        "colab": {
          "base_uri": "https://localhost:8080/"
        },
        "id": "UtLCfPi97OlM",
        "outputId": "a9fdcdb5-7230-48f4-a861-1b9472314b8e"
      },
      "execution_count": 27,
      "outputs": [
        {
          "output_type": "stream",
          "name": "stdout",
          "text": [
            "Time to build vocab: 0.02 mins\n"
          ]
        }
      ]
    },
    {
      "cell_type": "code",
      "source": [
        "t = time()\n",
        "\n",
        "w2v_model.train(train_data, total_examples=w2v_model.corpus_count, epochs=30, report_delay=1)\n",
        "\n",
        "print('Time to train the model: {} mins'.format(round((time() - t) / 60, 2)))"
      ],
      "metadata": {
        "colab": {
          "base_uri": "https://localhost:8080/"
        },
        "id": "0Z_y_bxq7STG",
        "outputId": "a7f2df5b-1b5a-45cd-a924-bac2b2ed1940"
      },
      "execution_count": 28,
      "outputs": [
        {
          "output_type": "stream",
          "name": "stdout",
          "text": [
            "Time to train the model: 6.41 mins\n"
          ]
        }
      ]
    },
    {
      "cell_type": "code",
      "source": [
        "w2v_model.save(\"/content/gdrive/MyDrive/NLP/Data/word2vec_Embedding.model\")"
      ],
      "metadata": {
        "id": "plzukUwg7TzI"
      },
      "execution_count": 29,
      "outputs": []
    },
    {
      "cell_type": "code",
      "source": [
        "# w2v_model = gensim.models.Word2Vec.load(\"word2vec_Embedding.model\")"
      ],
      "metadata": {
        "id": "qnGOS07z9OD2"
      },
      "execution_count": null,
      "outputs": []
    },
    {
      "cell_type": "code",
      "source": [
        "# getting the training loss value\n",
        "training_loss = w2v_model.get_latest_training_loss()\n",
        "print(training_loss)"
      ],
      "metadata": {
        "colab": {
          "base_uri": "https://localhost:8080/"
        },
        "id": "8IhQBCat2DXh",
        "outputId": "a5fdf60d-667e-46b2-a14e-9edcdc4259da"
      },
      "execution_count": 30,
      "outputs": [
        {
          "output_type": "stream",
          "name": "stdout",
          "text": [
            "0.0\n"
          ]
        }
      ]
    },
    {
      "cell_type": "code",
      "source": [
        "w2v_model.wv.most_similar(positive=[\"hoa\"], topn = 10)"
      ],
      "metadata": {
        "colab": {
          "base_uri": "https://localhost:8080/"
        },
        "id": "QuAyWkbT9XO4",
        "outputId": "d6b513e6-4afa-4d05-e4d3-12da06d53d79"
      },
      "execution_count": 32,
      "outputs": [
        {
          "output_type": "execute_result",
          "data": {
            "text/plain": [
              "[('hoa màu', 0.56458979845047),\n",
              " ('nhụy', 0.5366659164428711),\n",
              " ('vườn hoa', 0.4970857501029968),\n",
              " ('đơm', 0.476397842168808),\n",
              " ('lẵng', 0.46869993209838867),\n",
              " ('đóa', 0.45273357629776),\n",
              " ('hương', 0.4418981969356537),\n",
              " ('héo', 0.43443670868873596),\n",
              " ('kiểng', 0.4329260289669037),\n",
              " ('nở', 0.4311906397342682)]"
            ]
          },
          "metadata": {},
          "execution_count": 32
        }
      ]
    },
    {
      "cell_type": "code",
      "source": [
        "#len(sequence)\n",
        "leng=0\n",
        "length = [(leng + len(x)) for x in Content]\n",
        "plt.hist(length)\n",
        "plt.xlabel('length of words')\n",
        "plt.ylabel('frequency')"
      ],
      "metadata": {
        "_uuid": "3b3de65731787dfcc4fc01cec9a344a66e6bd384",
        "execution": {
          "iopub.status.busy": "2023-03-28T07:12:44.893871Z",
          "iopub.execute_input": "2023-03-28T07:12:44.894140Z",
          "iopub.status.idle": "2023-03-28T07:12:45.230771Z",
          "shell.execute_reply.started": "2023-03-28T07:12:44.894093Z",
          "shell.execute_reply": "2023-03-28T07:12:45.230004Z"
        },
        "trusted": true,
        "id": "mq4BHMYEMSzd",
        "outputId": "6b64a715-e22f-4783-c283-d8c724255cf2",
        "colab": {
          "base_uri": "https://localhost:8080/",
          "height": 466
        }
      },
      "execution_count": 33,
      "outputs": [
        {
          "output_type": "execute_result",
          "data": {
            "text/plain": [
              "Text(0, 0.5, 'frequency')"
            ]
          },
          "metadata": {},
          "execution_count": 33
        },
        {
          "output_type": "display_data",
          "data": {
            "text/plain": [
              "<Figure size 640x480 with 1 Axes>"
            ],
            "image/png": "[encoded data removed]"
          },
          "metadata": {}
        }
      ]
    },
    {
      "cell_type": "code",
      "source": [
        "import math\n",
        "avg_length = sum(length)/len(Content)\n",
        "\n",
        "# if words are more than max_length then they are skipped, if less than padding with 0 is done\n",
        "print(avg_length)"
      ],
      "metadata": {
        "_uuid": "921711312ca9cad19ed8c926b973654e6abd3ceb",
        "execution": {
          "iopub.status.busy": "2023-03-28T07:12:45.232032Z",
          "iopub.execute_input": "2023-03-28T07:12:45.232509Z",
          "iopub.status.idle": "2023-03-28T07:12:45.245723Z",
          "shell.execute_reply.started": "2023-03-28T07:12:45.232441Z",
          "shell.execute_reply": "2023-03-28T07:12:45.244769Z"
        },
        "trusted": true,
        "id": "mgCJdL-7MSzd",
        "outputId": "c9cb038b-d9d5-430b-f315-673d9c600c28",
        "colab": {
          "base_uri": "https://localhost:8080/"
        }
      },
      "execution_count": 14,
      "outputs": [
        {
          "output_type": "stream",
          "name": "stdout",
          "text": [
            "395.94505663570453\n"
          ]
        }
      ]
    },
    {
      "cell_type": "code",
      "source": [
        "#max_len = math.ceil(avg_length)             # this is used to decide how man words in seq to keep\n",
        "max_len = math.ceil(avg_length) \n",
        "max_len"
      ],
      "metadata": {
        "_uuid": "507aa8c0fb3e266d51edb692ad71bd50aad84a10",
        "execution": {
          "iopub.status.busy": "2023-03-28T07:12:45.247330Z",
          "iopub.execute_input": "2023-03-28T07:12:45.248003Z",
          "iopub.status.idle": "2023-03-28T07:12:45.256286Z",
          "shell.execute_reply.started": "2023-03-28T07:12:45.247939Z",
          "shell.execute_reply": "2023-03-28T07:12:45.255199Z"
        },
        "trusted": true,
        "id": "4QTfkg6jMSze",
        "colab": {
          "base_uri": "https://localhost:8080/"
        },
        "outputId": "54fe327b-de2d-4ae9-9e69-934962fc7d1a"
      },
      "execution_count": 65,
      "outputs": [
        {
          "output_type": "execute_result",
          "data": {
            "text/plain": [
              "396"
            ]
          },
          "metadata": {},
          "execution_count": 65
        }
      ]
    },
    {
      "cell_type": "code",
      "source": [],
      "metadata": {
        "id": "XQ76ch04EiX4"
      },
      "execution_count": 83,
      "outputs": []
    },
    {
      "cell_type": "code",
      "source": [
        "'''\n",
        "Now we have trained the embeddings, we now have embedding vector for each word. We will\n",
        "convert our text training data to numeric using theseword embeddings.\n",
        "First, we need to make length of each input same, therefore we'll do padding. But padding happends \n",
        "on numeric data, therefore we'll convert texts to sequences using tokenize() function. Then add padding\n",
        "Then we'll replace each non-zero numeric resulted from texts to sequences to its corresponding word\n",
        "embedding.\n",
        "'''\n",
        "max_features = 6000\n",
        "tokenizer = Tokenizer(num_words=max_features)       #keeps 6000 most common words\n",
        "train_test_data = Content                       # contains word tokens extracted from lines\n",
        "tokenizer.fit_on_texts(train_test_data)\n",
        "sequence = tokenizer.texts_to_sequences(train_test_data)\n",
        "train_test_data = pad_sequences(sequence, maxlen = max_len)"
      ],
      "metadata": {
        "_uuid": "fe27d22f6d3fb3b3a269aae6d7cb28e208e514a1",
        "execution": {
          "iopub.status.busy": "2023-03-28T07:12:45.259197Z",
          "iopub.execute_input": "2023-03-28T07:12:45.260525Z",
          "iopub.status.idle": "2023-03-28T07:13:03.108131Z",
          "shell.execute_reply.started": "2023-03-28T07:12:45.260448Z",
          "shell.execute_reply": "2023-03-28T07:13:03.107225Z"
        },
        "trusted": true,
        "id": "RM_eMsCKMSze"
      },
      "execution_count": 16,
      "outputs": []
    },
    {
      "cell_type": "code",
      "source": [
        "vocab_size = len(tokenizer.word_index)+1\n",
        "vocab_size"
      ],
      "metadata": {
        "colab": {
          "base_uri": "https://localhost:8080/"
        },
        "id": "WKO-9dvYFv-k",
        "outputId": "27a2f962-c48a-4fa5-f66b-05373e90670a"
      },
      "execution_count": 72,
      "outputs": [
        {
          "output_type": "execute_result",
          "data": {
            "text/plain": [
              "68850"
            ]
          },
          "metadata": {},
          "execution_count": 72
        }
      ]
    },
    {
      "cell_type": "code",
      "source": [
        "# Preparing embedding matrix\n",
        "vocab_size = len(tokenizer.word_index)+1\n",
        "embedding_matrix = np.zeros((vocab_size, embedding_vector_size))\n",
        "# +1 is done because i starts from 1 instead of 0, and goes till len(vocab)\n",
        "for  word, i in tokenizer.word_index.items():\n",
        "    try:\n",
        "      embedding_vector = w2v_model.wv[word]\n",
        "    except:\n",
        "      print(\"error\")\n",
        "    if embedding_vector is not None:\n",
        "        embedding_matrix[i] = embedding_vector\n",
        "    # print(i)"
      ],
      "metadata": {
        "_uuid": "0b6cab0b83856550162999db22715d7fe0886612",
        "execution": {
          "iopub.status.busy": "2023-03-28T07:13:03.109442Z",
          "iopub.execute_input": "2023-03-28T07:13:03.109733Z",
          "iopub.status.idle": "2023-03-28T07:13:03.731470Z",
          "shell.execute_reply.started": "2023-03-28T07:13:03.109687Z",
          "shell.execute_reply": "2023-03-28T07:13:03.730669Z"
        },
        "trusted": true,
        "id": "kXkcE1JzMSze"
      },
      "execution_count": null,
      "outputs": []
    },
    {
      "cell_type": "code",
      "source": [
        "train_test_data.shape"
      ],
      "metadata": {
        "colab": {
          "base_uri": "https://localhost:8080/"
        },
        "id": "eQXyaoy34hF7",
        "outputId": "d0243444-8520-4e1f-f2b1-271f2f329a36"
      },
      "execution_count": 36,
      "outputs": [
        {
          "output_type": "execute_result",
          "data": {
            "text/plain": [
              "(51999, 396)"
            ]
          },
          "metadata": {},
          "execution_count": 36
        }
      ]
    },
    {
      "cell_type": "code",
      "source": [
        "def replace(a):\n",
        "  a = a.replace(\" \",\"_\")\n",
        "  return a\n",
        "df['category'].apply(replace)"
      ],
      "metadata": {
        "id": "D76cMn7WFYYU"
      },
      "execution_count": null,
      "outputs": []
    },
    {
      "cell_type": "code",
      "source": [
        "y = []\n",
        "for i in df.category:\n",
        "  y.append(i)"
      ],
      "metadata": {
        "id": "JgcJ5qIs_BWB"
      },
      "execution_count": 66,
      "outputs": []
    },
    {
      "cell_type": "code",
      "source": [
        "from sklearn.preprocessing import LabelEncoder\n",
        "Label = LabelEncoder()\n",
        "label_new = Label.fit_transform(y)\n"
      ],
      "metadata": {
        "id": "WliWBkDTAlbc"
      },
      "execution_count": 67,
      "outputs": []
    },
    {
      "cell_type": "code",
      "source": [
        "label_new"
      ],
      "metadata": {
        "colab": {
          "base_uri": "https://localhost:8080/"
        },
        "id": "ywJWiiI3FT_T",
        "outputId": "972473e7-0d46-4bb3-cb2c-eb526526f7cb"
      },
      "execution_count": 68,
      "outputs": [
        {
          "output_type": "execute_result",
          "data": {
            "text/plain": [
              "array([0, 7, 1, ..., 3, 3, 3])"
            ]
          },
          "metadata": {},
          "execution_count": 68
        }
      ]
    },
    {
      "cell_type": "code",
      "source": [
        "train_test_data"
      ],
      "metadata": {
        "colab": {
          "base_uri": "https://localhost:8080/"
        },
        "id": "Hb37ZguLD8Oc",
        "outputId": "d3bcad43-7c82-4f59-806b-b9b5661764aa"
      },
      "execution_count": 63,
      "outputs": [
        {
          "output_type": "execute_result",
          "data": {
            "text/plain": [
              "array([[   0,    0,    0, ...,  746,  515, 1622],\n",
              "       [   0,    0,    0, ...,   84,  471,   84],\n",
              "       [   0,    0,    0, ...,    2,   20,  157],\n",
              "       ...,\n",
              "       [   0,    0,    0, ...,  412,  210,   76],\n",
              "       [   0,    0,    0, ...,  245,    7, 4207],\n",
              "       [   0,    0,    0, ..., 1208,  332, 2324]], dtype=int32)"
            ]
          },
          "metadata": {},
          "execution_count": 63
        }
      ]
    },
    {
      "cell_type": "code",
      "source": [
        "from tensorflow.keras.utils import to_categorical\n",
        "y = to_categorical(label_new)"
      ],
      "metadata": {
        "id": "jLrxlRU-31lc"
      },
      "execution_count": 69,
      "outputs": []
    },
    {
      "cell_type": "code",
      "source": [
        "# X = train_test_data[:ntrain,:]\n",
        "# X = np.append(X,train_test_data[ntrain+25000: ,:])\n",
        "# X = X.reshape(-1,123)\n",
        "# y1 = y.append(imdb_data['sentiment'])"
      ],
      "metadata": {
        "_uuid": "fdad67b3996ca6c1690f5e3b35aff85ce0672c2e",
        "execution": {
          "iopub.status.busy": "2023-03-28T07:13:03.736154Z",
          "iopub.execute_input": "2023-03-28T07:13:03.738385Z",
          "iopub.status.idle": "2023-03-28T07:13:03.780585Z",
          "shell.execute_reply.started": "2023-03-28T07:13:03.738328Z",
          "shell.execute_reply": "2023-03-28T07:13:03.779648Z"
        },
        "trusted": true,
        "id": "SdhZv-mmMSzf"
      },
      "execution_count": null,
      "outputs": []
    },
    {
      "cell_type": "code",
      "source": [
        "X_train, X_test, y_train, y_test = train_test_split(train_test_data , y, test_size=0.2, random_state=42, shuffle=True)"
      ],
      "metadata": {
        "_uuid": "a0ffcc8e80601ef653034506b5d22db5c6cad1ad",
        "execution": {
          "iopub.status.busy": "2023-03-28T07:13:03.784843Z",
          "iopub.execute_input": "2023-03-28T07:13:03.787003Z",
          "iopub.status.idle": "2023-03-28T07:13:03.844826Z",
          "shell.execute_reply.started": "2023-03-28T07:13:03.786949Z",
          "shell.execute_reply": "2023-03-28T07:13:03.843864Z"
        },
        "trusted": true,
        "id": "BzHpRT8MMSzf"
      },
      "execution_count": 70,
      "outputs": []
    },
    {
      "cell_type": "code",
      "source": [
        "model = Sequential()\n",
        "\n",
        "model.add(Embedding(input_dim = vocab_size, output_dim = embedding_vector_size, \n",
        "                    input_length = max_len, weights = [embedding_matrix]))\n",
        "model.add(Bidirectional(LSTM(64, dropout=0.25)))\n",
        "model.add(Dense(10))\n",
        "model.add(Dropout(0.3))\n",
        "model.add(Dense(13, activation='sigmoid'))"
      ],
      "metadata": {
        "_uuid": "d5d8d48d3220e50093e230bb92927acf8000b78b",
        "execution": {
          "iopub.status.busy": "2023-03-28T07:13:03.849155Z",
          "iopub.execute_input": "2023-03-28T07:13:03.851479Z",
          "iopub.status.idle": "2023-03-28T07:13:06.431066Z",
          "shell.execute_reply.started": "2023-03-28T07:13:03.851418Z",
          "shell.execute_reply": "2023-03-28T07:13:06.430235Z"
        },
        "trusted": true,
        "id": "SMA9gSF4MSzf"
      },
      "execution_count": 77,
      "outputs": []
    },
    {
      "cell_type": "code",
      "source": [
        "learning_rate_reduction = ReduceLROnPlateau(monitor='val_acc', \n",
        "                                            patience=3, \n",
        "                                            verbose=1, \n",
        "                                            factor=0.5, \n",
        "                                            min_lr=0.00001)"
      ],
      "metadata": {
        "_uuid": "62ad68e3ab52c2b5ebdead844eb17d836cf1f140",
        "execution": {
          "iopub.status.busy": "2023-03-28T07:13:06.432472Z",
          "iopub.execute_input": "2023-03-28T07:13:06.432798Z",
          "iopub.status.idle": "2023-03-28T07:13:06.438870Z",
          "shell.execute_reply.started": "2023-03-28T07:13:06.432729Z",
          "shell.execute_reply": "2023-03-28T07:13:06.437714Z"
        },
        "trusted": true,
        "id": "jLpkd_1JMSzf"
      },
      "execution_count": 75,
      "outputs": []
    },
    {
      "cell_type": "code",
      "source": [
        "model.compile(optimizer='RMSprop', loss='binary_crossentropy', metrics=['acc'])\n",
        "print(model.summary())\n",
        "\n",
        "history = model.fit(X_train, y_train, epochs = 30, batch_size = 700, validation_data=(X_test, y_test),callbacks = [learning_rate_reduction])"
      ],
      "metadata": {
        "_uuid": "077194cdb8628183b530c3edb9b8cc0d12ffe53a",
        "execution": {
          "iopub.status.busy": "2023-03-28T07:13:06.440183Z",
          "iopub.execute_input": "2023-03-28T07:13:06.440761Z",
          "iopub.status.idle": "2023-03-28T07:13:18.637740Z",
          "shell.execute_reply.started": "2023-03-28T07:13:06.440426Z",
          "shell.execute_reply": "2023-03-28T07:13:18.573573Z"
        },
        "trusted": true,
        "id": "6N4LCXJcMSzf",
        "outputId": "e0e3a6f2-0c71-4faf-df20-63274fb20291",
        "colab": {
          "base_uri": "https://localhost:8080/"
        }
      },
      "execution_count": 78,
      "outputs": [
        {
          "output_type": "stream",
          "name": "stdout",
          "text": [
            "Model: \"sequential_2\"\n",
            "_________________________________________________________________\n",
            " Layer (type)                Output Shape              Param #   \n",
            "=================================================================\n",
            " embedding_2 (Embedding)     (None, 396, 300)          20655000  \n",
            "                                                                 \n",
            " bidirectional_2 (Bidirectio  (None, 128)              186880    \n",
            " nal)                                                            \n",
            "                                                                 \n",
            " dense_4 (Dense)             (None, 10)                1290      \n",
            "                                                                 \n",
            " dropout_2 (Dropout)         (None, 10)                0         \n",
            "                                                                 \n",
            " dense_5 (Dense)             (None, 13)                143       \n",
            "                                                                 \n",
            "=================================================================\n",
            "Total params: 20,843,313\n",
            "Trainable params: 20,843,313\n",
            "Non-trainable params: 0\n",
            "_________________________________________________________________\n",
            "None\n",
            "Epoch 1/30\n",
            "60/60 [==============================] - 27s 278ms/step - loss: 0.4080 - acc: 0.1194 - val_loss: 0.2447 - val_acc: 0.3178 - lr: 0.0010\n",
            "Epoch 2/30\n",
            "60/60 [==============================] - 15s 245ms/step - loss: 0.2837 - acc: 0.2590 - val_loss: 0.1929 - val_acc: 0.5482 - lr: 0.0010\n",
            "Epoch 3/30\n",
            "60/60 [==============================] - 14s 238ms/step - loss: 0.2304 - acc: 0.4142 - val_loss: 0.1606 - val_acc: 0.6456 - lr: 0.0010\n",
            "Epoch 4/30\n",
            "60/60 [==============================] - 14s 238ms/step - loss: 0.2013 - acc: 0.5115 - val_loss: 0.1439 - val_acc: 0.6908 - lr: 0.0010\n",
            "Epoch 5/30\n",
            "60/60 [==============================] - 14s 232ms/step - loss: 0.1850 - acc: 0.5704 - val_loss: 0.1332 - val_acc: 0.7113 - lr: 0.0010\n",
            "Epoch 6/30\n",
            "60/60 [==============================] - 14s 226ms/step - loss: 0.1750 - acc: 0.6087 - val_loss: 0.1268 - val_acc: 0.7212 - lr: 0.0010\n",
            "Epoch 7/30\n",
            "60/60 [==============================] - 13s 222ms/step - loss: 0.1678 - acc: 0.6306 - val_loss: 0.1228 - val_acc: 0.7312 - lr: 0.0010\n",
            "Epoch 8/30\n",
            "60/60 [==============================] - 13s 216ms/step - loss: 0.1622 - acc: 0.6451 - val_loss: 0.1207 - val_acc: 0.7314 - lr: 0.0010\n",
            "Epoch 9/30\n",
            "60/60 [==============================] - 13s 220ms/step - loss: 0.1582 - acc: 0.6565 - val_loss: 0.1178 - val_acc: 0.7369 - lr: 0.0010\n",
            "Epoch 10/30\n",
            "60/60 [==============================] - 13s 221ms/step - loss: 0.1552 - acc: 0.6637 - val_loss: 0.1140 - val_acc: 0.7443 - lr: 0.0010\n",
            "Epoch 11/30\n",
            "60/60 [==============================] - 13s 211ms/step - loss: 0.1522 - acc: 0.6713 - val_loss: 0.1141 - val_acc: 0.7438 - lr: 0.0010\n",
            "Epoch 12/30\n",
            "60/60 [==============================] - 13s 219ms/step - loss: 0.1497 - acc: 0.6793 - val_loss: 0.1123 - val_acc: 0.7467 - lr: 0.0010\n",
            "Epoch 13/30\n",
            "60/60 [==============================] - 13s 210ms/step - loss: 0.1472 - acc: 0.6820 - val_loss: 0.1112 - val_acc: 0.7479 - lr: 0.0010\n",
            "Epoch 14/30\n",
            "60/60 [==============================] - 13s 222ms/step - loss: 0.1445 - acc: 0.6917 - val_loss: 0.1119 - val_acc: 0.7457 - lr: 0.0010\n",
            "Epoch 15/30\n",
            "60/60 [==============================] - 13s 214ms/step - loss: 0.1431 - acc: 0.6932 - val_loss: 0.1081 - val_acc: 0.7522 - lr: 0.0010\n",
            "Epoch 16/30\n",
            "60/60 [==============================] - 13s 223ms/step - loss: 0.1414 - acc: 0.6967 - val_loss: 0.1078 - val_acc: 0.7526 - lr: 0.0010\n",
            "Epoch 17/30\n",
            "60/60 [==============================] - 13s 222ms/step - loss: 0.1393 - acc: 0.7040 - val_loss: 0.1092 - val_acc: 0.7509 - lr: 0.0010\n",
            "Epoch 18/30\n",
            "60/60 [==============================] - 13s 215ms/step - loss: 0.1380 - acc: 0.7054 - val_loss: 0.1065 - val_acc: 0.7554 - lr: 0.0010\n",
            "Epoch 19/30\n",
            "60/60 [==============================] - 13s 212ms/step - loss: 0.1366 - acc: 0.7099 - val_loss: 0.1075 - val_acc: 0.7536 - lr: 0.0010\n",
            "Epoch 20/30\n",
            "60/60 [==============================] - 13s 218ms/step - loss: 0.1352 - acc: 0.7112 - val_loss: 0.1062 - val_acc: 0.7540 - lr: 0.0010\n",
            "Epoch 21/30\n",
            "60/60 [==============================] - 13s 222ms/step - loss: 0.1340 - acc: 0.7168 - val_loss: 0.1070 - val_acc: 0.7556 - lr: 0.0010\n",
            "Epoch 22/30\n",
            "60/60 [==============================] - 13s 221ms/step - loss: 0.1328 - acc: 0.7180 - val_loss: 0.1064 - val_acc: 0.7561 - lr: 0.0010\n",
            "Epoch 23/30\n",
            "60/60 [==============================] - 13s 223ms/step - loss: 0.1315 - acc: 0.7218 - val_loss: 0.1075 - val_acc: 0.7550 - lr: 0.0010\n",
            "Epoch 24/30\n",
            "60/60 [==============================] - 13s 218ms/step - loss: 0.1294 - acc: 0.7249 - val_loss: 0.1070 - val_acc: 0.7532 - lr: 0.0010\n",
            "Epoch 25/30\n",
            "60/60 [==============================] - 13s 221ms/step - loss: 0.1284 - acc: 0.7281 - val_loss: 0.1035 - val_acc: 0.7599 - lr: 0.0010\n",
            "Epoch 26/30\n",
            "60/60 [==============================] - 13s 224ms/step - loss: 0.1274 - acc: 0.7307 - val_loss: 0.1050 - val_acc: 0.7569 - lr: 0.0010\n",
            "Epoch 27/30\n",
            "60/60 [==============================] - 13s 215ms/step - loss: 0.1266 - acc: 0.7323 - val_loss: 0.1051 - val_acc: 0.7602 - lr: 0.0010\n",
            "Epoch 28/30\n",
            "60/60 [==============================] - 13s 222ms/step - loss: 0.1253 - acc: 0.7384 - val_loss: 0.1055 - val_acc: 0.7533 - lr: 0.0010\n",
            "Epoch 29/30\n",
            "60/60 [==============================] - 13s 223ms/step - loss: 0.1242 - acc: 0.7378 - val_loss: 0.1066 - val_acc: 0.7588 - lr: 0.0010\n",
            "Epoch 30/30\n",
            "60/60 [==============================] - ETA: 0s - loss: 0.1235 - acc: 0.7393\n",
            "Epoch 30: ReduceLROnPlateau reducing learning rate to 0.0005000000237487257.\n",
            "60/60 [==============================] - 13s 224ms/step - loss: 0.1235 - acc: 0.7393 - val_loss: 0.1082 - val_acc: 0.7417 - lr: 0.0010\n"
          ]
        }
      ]
    },
    {
      "cell_type": "code",
      "source": [
        "import matplotlib.pyplot as plt\n",
        "plt.plot(history.history['acc'])\n",
        "plt.plot(history.history['val_acc'])\n",
        "plt.ylabel('loss')\n",
        "plt.xlabel('epoch')\n",
        "plt.legend(['train', 'test'], loc='upper left')\n",
        "plt.show()"
      ],
      "metadata": {
        "_uuid": "31fe7c7d99f99378cc0108c83cb30633c7e2cf37",
        "scrolled": true,
        "execution": {
          "iopub.status.busy": "2023-03-28T07:13:18.574241Z",
          "iopub.status.idle": "2023-03-28T07:13:18.574778Z"
        },
        "trusted": true,
        "id": "9w29IcLpMSzf",
        "colab": {
          "base_uri": "https://localhost:8080/",
          "height": 449
        },
        "outputId": "cfb203c4-3cf3-43b9-8d92-c63e0a646be1"
      },
      "execution_count": 79,
      "outputs": [
        {
          "output_type": "display_data",
          "data": {
            "text/plain": [
              "<Figure size 640x480 with 1 Axes>"
            ],
            "image/png": "[encoded data removed]"
          },
          "metadata": {}
        }
      ]
    },
    {
      "cell_type": "code",
      "source": [
        "y_test_pred = model.predict(X_test)\n"
      ],
      "metadata": {
        "_uuid": "4f68c7a2e7579a1f35587cad84d8e1fc0611c96e",
        "execution": {
          "iopub.status.busy": "2023-03-28T07:13:18.575435Z",
          "iopub.status.idle": "2023-03-28T07:13:18.575887Z"
        },
        "trusted": true,
        "id": "Fu5wNBcHMSzg",
        "colab": {
          "base_uri": "https://localhost:8080/"
        },
        "outputId": "03da636b-aad6-4a5d-8253-1abd092a991e"
      },
      "execution_count": 80,
      "outputs": [
        {
          "output_type": "stream",
          "name": "stdout",
          "text": [
            "325/325 [==============================] - 4s 10ms/step\n"
          ]
        }
      ]
    },
    {
      "cell_type": "code",
      "source": [
        "from sklearn.metrics import roc_auc_score\n",
        "roc_auc_score(y_test, y_test_pred, average = 'weighted')"
      ],
      "metadata": {
        "_uuid": "d94bec332f4fecbb3cbbab89371b3400c234af71",
        "execution": {
          "iopub.status.busy": "2023-03-28T07:13:18.576451Z",
          "iopub.status.idle": "2023-03-28T07:13:18.577117Z"
        },
        "trusted": true,
        "id": "td4NGr5uMSzg",
        "colab": {
          "base_uri": "https://localhost:8080/"
        },
        "outputId": "1b80cd33-0772-4dd4-d9bc-e6747a66c5df"
      },
      "execution_count": 81,
      "outputs": [
        {
          "output_type": "execute_result",
          "data": {
            "text/plain": [
              "0.9585078658099642"
            ]
          },
          "metadata": {},
          "execution_count": 81
        }
      ]
    },
    {
      "cell_type": "code",
      "source": [
        "#predicting test_data\n",
        "y_pred = model.predict(X_test)"
      ],
      "metadata": {
        "_uuid": "481cceaadcca94200f4389ff2b7efc39ffff920d",
        "execution": {
          "iopub.status.busy": "2023-03-28T07:13:18.577993Z",
          "iopub.status.idle": "2023-03-28T07:13:18.578653Z"
        },
        "trusted": true,
        "id": "ZMxndTgoMSzg",
        "colab": {
          "base_uri": "https://localhost:8080/"
        },
        "outputId": "77a60ab5-ba99-4376-a7a8-daef8b5977d2"
      },
      "execution_count": 82,
      "outputs": [
        {
          "output_type": "stream",
          "name": "stdout",
          "text": [
            "325/325 [==============================] - 3s 10ms/step\n"
          ]
        }
      ]
    },
    {
      "cell_type": "code",
      "source": [
        "# predictions = [1 if (x>0.5) else 0 for x in y_pred ]"
      ],
      "metadata": {
        "_uuid": "5565948b52b441af8e8e92eb36fda62b8f463e64",
        "execution": {
          "iopub.status.busy": "2023-03-28T07:13:18.579519Z",
          "iopub.status.idle": "2023-03-28T07:13:18.580412Z"
        },
        "trusted": true,
        "id": "w_TAToYjMSzg",
        "colab": {
          "base_uri": "https://localhost:8080/",
          "height": 217
        },
        "outputId": "2e0b9ea2-0960-4ec3-e8e5-920176759972"
      },
      "execution_count": 83,
      "outputs": [
        {
          "output_type": "error",
          "ename": "ValueError",
          "evalue": "ignored",
          "traceback": [
            "\u001b[0;31m---------------------------------------------------------------------------\u001b[0m",
            "\u001b[0;31mValueError\u001b[0m                                Traceback (most recent call last)",
            "\u001b[0;32m<ipython-input-83-9a0ddc5f69d6>\u001b[0m in \u001b[0;36m<cell line: 1>\u001b[0;34m()\u001b[0m\n\u001b[0;32m----> 1\u001b[0;31m \u001b[0mpredictions\u001b[0m \u001b[0;34m=\u001b[0m \u001b[0;34m[\u001b[0m\u001b[0;36m1\u001b[0m \u001b[0;32mif\u001b[0m \u001b[0;34m(\u001b[0m\u001b[0mx\u001b[0m\u001b[0;34m>\u001b[0m\u001b[0;36m0.5\u001b[0m\u001b[0;34m)\u001b[0m \u001b[0;32melse\u001b[0m \u001b[0;36m0\u001b[0m \u001b[0;32mfor\u001b[0m \u001b[0mx\u001b[0m \u001b[0;32min\u001b[0m \u001b[0my_pred\u001b[0m \u001b[0;34m]\u001b[0m\u001b[0;34m\u001b[0m\u001b[0;34m\u001b[0m\u001b[0m\n\u001b[0m",
            "\u001b[0;32m<ipython-input-83-9a0ddc5f69d6>\u001b[0m in \u001b[0;36m<listcomp>\u001b[0;34m(.0)\u001b[0m\n\u001b[0;32m----> 1\u001b[0;31m \u001b[0mpredictions\u001b[0m \u001b[0;34m=\u001b[0m \u001b[0;34m[\u001b[0m\u001b[0;36m1\u001b[0m \u001b[0;32mif\u001b[0m \u001b[0;34m(\u001b[0m\u001b[0mx\u001b[0m\u001b[0;34m>\u001b[0m\u001b[0;36m0.5\u001b[0m\u001b[0;34m)\u001b[0m \u001b[0;32melse\u001b[0m \u001b[0;36m0\u001b[0m \u001b[0;32mfor\u001b[0m \u001b[0mx\u001b[0m \u001b[0;32min\u001b[0m \u001b[0my_pred\u001b[0m \u001b[0;34m]\u001b[0m\u001b[0;34m\u001b[0m\u001b[0;34m\u001b[0m\u001b[0m\n\u001b[0m",
            "\u001b[0;31mValueError\u001b[0m: The truth value of an array with more than one element is ambiguous. Use a.any() or a.all()"
          ]
        }
      ]
    },
    {
      "cell_type": "code",
      "source": [
        "predictions = pd.Series(predictions)"
      ],
      "metadata": {
        "_uuid": "2d2dc365cd355752a868b8564cc22e91791d736f",
        "execution": {
          "iopub.status.busy": "2023-03-28T07:13:18.581284Z",
          "iopub.status.idle": "2023-03-28T07:13:18.581935Z"
        },
        "trusted": true,
        "id": "-aqJONTUMSzg"
      },
      "execution_count": null,
      "outputs": []
    },
    {
      "cell_type": "code",
      "source": [
        "ids = raw_test_data['id'].str.replace('\"', '')"
      ],
      "metadata": {
        "_uuid": "a9b37c7d630c5eb2acb5e3430c6fd47938c7d8db",
        "execution": {
          "iopub.status.busy": "2023-03-28T07:13:18.582809Z",
          "iopub.status.idle": "2023-03-28T07:13:18.583413Z"
        },
        "trusted": true,
        "id": "XyVf1-YXMSzg"
      },
      "execution_count": null,
      "outputs": []
    },
    {
      "cell_type": "code",
      "source": [
        "submission = pd.DataFrame({'id': ids, 'sentiment':predictions})\n",
        "submission.to_csv('word2vec.csv',index=False)"
      ],
      "metadata": {
        "_uuid": "32f45cb8fe8afa9e6e23d58c9a1c3d5463e2a521",
        "execution": {
          "iopub.status.busy": "2023-03-28T07:13:18.584354Z",
          "iopub.status.idle": "2023-03-28T07:13:18.585012Z"
        },
        "trusted": true,
        "id": "eAxUpuxtMSzg"
      },
      "execution_count": null,
      "outputs": []
    },
    {
      "cell_type": "code",
      "source": [],
      "metadata": {
        "_uuid": "d9827b43c6e22b2800dd417c4297c4b93152ef2f",
        "trusted": true,
        "id": "sFIsMTlPMSzh"
      },
      "execution_count": null,
      "outputs": []
    }
  ]
}